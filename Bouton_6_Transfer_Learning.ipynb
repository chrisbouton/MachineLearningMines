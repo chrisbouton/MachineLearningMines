{
  "cells": [
    {
      "cell_type": "markdown",
      "metadata": {
        "id": "view-in-github",
        "colab_type": "text"
      },
      "source": [
        "<a href=\"https://colab.research.google.com/github/chrisbouton/MachineLearningMines/blob/main/Bouton_6_Transfer_Learning.ipynb\" target=\"_parent\"><img src=\"https://colab.research.google.com/assets/colab-badge.svg\" alt=\"Open In Colab\"/></a>"
      ]
    },
    {
      "cell_type": "markdown",
      "metadata": {
        "id": "BYTkBYGeGguI"
      },
      "source": [
        "## CSCI 470 Activities and Case Studies\n",
        "\n",
        "1. For all activities, you are allowed to collaborate with a partner. \n",
        "1. For case studies, you should work individually and are **not** allowed to collaborate.\n",
        "\n",
        "By filling out this notebook and submitting it, you acknowledge that you are aware of the above policies and are agreeing to comply with them."
      ]
    },
    {
      "cell_type": "markdown",
      "metadata": {
        "id": "AmLuA7ybGguL"
      },
      "source": [
        "Some considerations with regard to how these notebooks will be graded:\n",
        "\n",
        "1. Cells in which \"# YOUR CODE HERE\" is found are the cells where your graded code should be written.\n",
        "2. In order to test out or debug your code you may also create notebook cells or edit existing notebook cells other than \"# YOUR CODE HERE\". We actually highly recommend you do so to gain a better understanding of what is happening. However, during grading, **these changes are ignored**. \n",
        "2. You must ensure that all your code for the particular task is available in the cells that say \"# YOUR CODE HERE\"\n",
        "3. Every cell that says \"# YOUR CODE HERE\" is followed by a \"raise NotImplementedError\". You need to remove that line. During grading, if an error occurs then you will not receive points for your work in that section.\n",
        "4. If your code passes the \"assert\" statements, then no output will result. If your code fails the \"assert\" statements, you will get an \"AssertionError\". Getting an assertion error means you will not receive points for that particular task.\n",
        "5. If you edit the \"assert\" statements to make your code pass, they will still fail when they are graded since the \"assert\" statements will revert to the original. Make sure you don't edit the assert statements.\n",
        "6. We may sometimes have \"hidden\" tests for grading. This means that passing the visible \"assert\" statements is not sufficient. The \"assert\" statements are there as a guide but you need to make sure you understand what you're required to do and ensure that you are doing it correctly. Passing the visible tests is necessary but not sufficient to get the grade for that cell.\n",
        "7. When you are asked to define a function, make sure you **don't** use any variables outside of the parameters passed to the function. You can think of the parameters being passed to the function as a hint. Make sure you're using all of those variables.\n",
        "8. Finally, **make sure you run \"Kernel > Restart and Run All\"** and pass all the asserts before submitting. If you don't restart the kernel, there may be some code that you ran and deleted that is still being used and that was why your asserts were passing."
      ]
    },
    {
      "cell_type": "markdown",
      "metadata": {
        "deletable": false,
        "editable": false,
        "nbgrader": {
          "cell_type": "markdown",
          "checksum": "3a3b267c03d969d8512c4547ca52880f",
          "grade": false,
          "grade_id": "cell-c9d79ad28495f780",
          "locked": true,
          "schema_version": 3,
          "solution": false
        },
        "id": "xRjbh-boGguN"
      },
      "source": [
        "# Transfer Learning\n",
        "\n",
        "We've already looked at one example of transfer learning. For NLP topic classification, we used various feature representations including using GloVe representations as the chosen word embedding. That was one example of transfer learning where the approach we used was a feature representation transfer.\n",
        "\n",
        "In this exercise we will apply transfer learning to computer vision where we will incorporate both parameter transfer as well as feature representation transfer. You can take a look at the available pre-trained models in keras on the [applications page](https://keras.io/applications) in the documentation. In modern ML practice, we often use transfer learning to gain the benefit of state of the art models, rather than build a model from scratch.\n",
        "\n",
        "For thie exercise, we will use the [CIFAR10 dataset](https://keras.io/datasets/#cifar10-small-image-classification)."
      ]
    },
    {
      "cell_type": "code",
      "execution_count": 1,
      "metadata": {
        "nbgrader": {
          "grade": false,
          "grade_id": "cell-efba043cb3f09871",
          "locked": false,
          "schema_version": 3,
          "solution": false
        },
        "id": "Q8MFgOOXGguN"
      },
      "outputs": [],
      "source": [
        "import numpy as np\n",
        "import matplotlib\n",
        "import matplotlib.pyplot as plt\n",
        "\n",
        "import tensorflow as tf\n",
        "import tensorflow.keras as keras\n",
        "\n",
        "from tensorflow.keras.datasets import cifar10\n",
        "from tensorflow.keras.applications.vgg16 import VGG16\n",
        "from tensorflow.keras.layers import Dense, Flatten\n",
        "from tensorflow.keras import Model"
      ]
    },
    {
      "cell_type": "markdown",
      "metadata": {
        "id": "EpIqB7WzGguO"
      },
      "source": [
        "## Load, examine, and prepare the data"
      ]
    },
    {
      "cell_type": "code",
      "execution_count": 2,
      "metadata": {
        "id": "gE0f-J0FGguP"
      },
      "outputs": [],
      "source": [
        "(x_train, y_train), (x_test, y_test) = cifar10.load_data()\n",
        "num_classes = 10"
      ]
    },
    {
      "cell_type": "code",
      "execution_count": 3,
      "metadata": {
        "colab": {
          "base_uri": "https://localhost:8080/"
        },
        "id": "Hw0NC3YTGguP",
        "outputId": "8d3eaf1b-af70-4cd3-c2d3-873caecd051d"
      },
      "outputs": [
        {
          "output_type": "execute_result",
          "data": {
            "text/plain": [
              "[name: \"/device:CPU:0\"\n",
              " device_type: \"CPU\"\n",
              " memory_limit: 268435456\n",
              " locality {\n",
              " }\n",
              " incarnation: 16719836955963346172\n",
              " xla_global_id: -1]"
            ]
          },
          "metadata": {},
          "execution_count": 3
        }
      ],
      "source": [
        "# This code simply lets us know if the TensorFlow has access\n",
        "# to a GPU, or just a CPU\n",
        "\n",
        "from tensorflow.python.client import device_lib\n",
        "device_lib.list_local_devices()"
      ]
    },
    {
      "cell_type": "code",
      "execution_count": 4,
      "metadata": {
        "nbgrader": {
          "grade": false,
          "grade_id": "cell-da2aa308afa6cd45",
          "locked": false,
          "schema_version": 3,
          "solution": false
        },
        "colab": {
          "base_uri": "https://localhost:8080/"
        },
        "id": "47lWbjLCGguP",
        "outputId": "34330d42-b203-4c53-e732-33a5ffe061e0"
      },
      "outputs": [
        {
          "output_type": "execute_result",
          "data": {
            "text/plain": [
              "((50000, 32, 32, 3), (50000, 1))"
            ]
          },
          "metadata": {},
          "execution_count": 4
        }
      ],
      "source": [
        "# Let's see how many training samples we have, and the size of the images\n",
        "\n",
        "x_train.shape, y_train.shape"
      ]
    },
    {
      "cell_type": "code",
      "execution_count": 5,
      "metadata": {
        "colab": {
          "base_uri": "https://localhost:8080/"
        },
        "id": "vucEoeKGGguQ",
        "outputId": "1a09ffdc-3823-4443-e8da-c161ffbfcd82"
      },
      "outputs": [
        {
          "output_type": "execute_result",
          "data": {
            "text/plain": [
              "array([0, 1, 2, 3, 4, 5, 6, 7, 8, 9], dtype=uint8)"
            ]
          },
          "metadata": {},
          "execution_count": 5
        }
      ],
      "source": [
        "# CIFAR-10 consists of 10 object classes. Let's confirm this.\n",
        "\n",
        "np.unique(y_train)"
      ]
    },
    {
      "cell_type": "code",
      "execution_count": 6,
      "metadata": {
        "nbgrader": {
          "grade": false,
          "grade_id": "cell-00565449f93db419",
          "locked": false,
          "schema_version": 3,
          "solution": false
        },
        "colab": {
          "base_uri": "https://localhost:8080/"
        },
        "id": "VGuge8ZzGguQ",
        "outputId": "e73bca39-5164-4097-f946-9f04e5c19a62"
      },
      "outputs": [
        {
          "output_type": "execute_result",
          "data": {
            "text/plain": [
              "((10000, 32, 32, 3), (10000, 1))"
            ]
          },
          "metadata": {},
          "execution_count": 6
        }
      ],
      "source": [
        "# See how many test samples we have, and confirm that array sizes meet our expectations\n",
        "\n",
        "x_test.shape, y_test.shape"
      ]
    },
    {
      "cell_type": "code",
      "execution_count": 7,
      "metadata": {
        "colab": {
          "base_uri": "https://localhost:8080/"
        },
        "id": "mNp5wzBzGguQ",
        "outputId": "e38565c9-7d0b-4d55-c7fa-05fc72946854"
      },
      "outputs": [
        {
          "output_type": "execute_result",
          "data": {
            "text/plain": [
              "((50000, 10), (10000, 10), 0.0, 1.0)"
            ]
          },
          "metadata": {},
          "execution_count": 7
        }
      ],
      "source": [
        "# We need to convert the integer-based class labels to categorical, one-hot\n",
        "# encoding vectors. Note that this is analogous to our use of get_dummies()\n",
        "# in pandas, which serves the same purpose except for DataFrames rather than\n",
        "# numpy arrays.\n",
        "\n",
        "y_train = keras.utils.to_categorical(y_train, num_classes)\n",
        "y_test = keras.utils.to_categorical(y_test, num_classes)\n",
        "\n",
        "y_train.shape, y_test.shape, y_train.min(), y_train.max()"
      ]
    },
    {
      "cell_type": "markdown",
      "metadata": {
        "deletable": false,
        "editable": false,
        "nbgrader": {
          "cell_type": "markdown",
          "checksum": "50f583dad12a72fea9f8dce818d8391f",
          "grade": false,
          "grade_id": "cell-46a3e8197a25e135",
          "locked": true,
          "schema_version": 3,
          "solution": false
        },
        "id": "GUI4WDL8GguR"
      },
      "source": [
        "## Extract parameters from a pre-trained model\n",
        "\n",
        "We'll use a VGG-16 model which has been trained on the [ImageNet ILSVRC](https://www.image-net.org/challenges/LSVRC/) image corpus of 1000 image categories. VGG-16 is a 16-layered CNN model. We'll keep the early convolutional layers and use them as a front-end for our new model, leveraging those convolutional layers for feature extraction. We'll discard the subsequent fully-connected layers (the \"top\") of the VGG-16 model, and instead, build a new \"top\" and train it for classification of CIFAR-10 images.\n",
        "\n",
        "Note that this process is taking the feature extraction knowledge learned from the ImageNet data and \"transferring\" it to our new model.\n",
        "\n",
        "You'll need to reference the [VGG16 Keras documentation](https://keras.io/api/applications/vgg/#vgg16-function) to accomplish this."
      ]
    },
    {
      "cell_type": "code",
      "execution_count": 8,
      "metadata": {
        "deletable": false,
        "nbgrader": {
          "cell_type": "code",
          "checksum": "db0fd117651360de3fe6e8d5d4de26ec",
          "grade": false,
          "grade_id": "cell-cbf2a8f1fde34aa8",
          "locked": false,
          "schema_version": 3,
          "solution": true
        },
        "id": "8mhbc8t2GguR"
      },
      "outputs": [],
      "source": [
        "# Load a VGG16 model with ImageNet weights, without the fully-connected (\"top\") layers.\n",
        "#\n",
        "# Note that convolutional layers are independent of actual height and width image\n",
        "# dimesions, so you have to use \"input_shape\" to inform the VGG16 object/model what\n",
        "# the those dimensions will be.\n",
        "#\n",
        "# Save your model as \"vgg_model\".\n",
        "\n",
        "# YOUR CODE HERE\n",
        "vgg_model = VGG16(weights=\"imagenet\",include_top=False,input_shape=x_train[4].shape)\n",
        "#raise NotImplementedError()"
      ]
    },
    {
      "cell_type": "code",
      "execution_count": 9,
      "metadata": {
        "deletable": false,
        "editable": false,
        "nbgrader": {
          "cell_type": "code",
          "checksum": "c0ef0c7b96d2bce168920de695e896d4",
          "grade": true,
          "grade_id": "cell-7cc41b089035d39a",
          "locked": true,
          "points": 5,
          "schema_version": 3,
          "solution": false
        },
        "id": "ZO2dBXShGguR"
      },
      "outputs": [],
      "source": [
        "assert vgg_model"
      ]
    },
    {
      "cell_type": "code",
      "execution_count": 10,
      "metadata": {
        "colab": {
          "base_uri": "https://localhost:8080/"
        },
        "id": "3dMB4G61GguS",
        "outputId": "1a9cf71b-c0b3-4e71-ca7f-f1bc03b34dd1"
      },
      "outputs": [
        {
          "output_type": "stream",
          "name": "stdout",
          "text": [
            "Model: \"vgg16\"\n",
            "_________________________________________________________________\n",
            " Layer (type)                Output Shape              Param #   \n",
            "=================================================================\n",
            " input_1 (InputLayer)        [(None, 32, 32, 3)]       0         \n",
            "                                                                 \n",
            " block1_conv1 (Conv2D)       (None, 32, 32, 64)        1792      \n",
            "                                                                 \n",
            " block1_conv2 (Conv2D)       (None, 32, 32, 64)        36928     \n",
            "                                                                 \n",
            " block1_pool (MaxPooling2D)  (None, 16, 16, 64)        0         \n",
            "                                                                 \n",
            " block2_conv1 (Conv2D)       (None, 16, 16, 128)       73856     \n",
            "                                                                 \n",
            " block2_conv2 (Conv2D)       (None, 16, 16, 128)       147584    \n",
            "                                                                 \n",
            " block2_pool (MaxPooling2D)  (None, 8, 8, 128)         0         \n",
            "                                                                 \n",
            " block3_conv1 (Conv2D)       (None, 8, 8, 256)         295168    \n",
            "                                                                 \n",
            " block3_conv2 (Conv2D)       (None, 8, 8, 256)         590080    \n",
            "                                                                 \n",
            " block3_conv3 (Conv2D)       (None, 8, 8, 256)         590080    \n",
            "                                                                 \n",
            " block3_pool (MaxPooling2D)  (None, 4, 4, 256)         0         \n",
            "                                                                 \n",
            " block4_conv1 (Conv2D)       (None, 4, 4, 512)         1180160   \n",
            "                                                                 \n",
            " block4_conv2 (Conv2D)       (None, 4, 4, 512)         2359808   \n",
            "                                                                 \n",
            " block4_conv3 (Conv2D)       (None, 4, 4, 512)         2359808   \n",
            "                                                                 \n",
            " block4_pool (MaxPooling2D)  (None, 2, 2, 512)         0         \n",
            "                                                                 \n",
            " block5_conv1 (Conv2D)       (None, 2, 2, 512)         2359808   \n",
            "                                                                 \n",
            " block5_conv2 (Conv2D)       (None, 2, 2, 512)         2359808   \n",
            "                                                                 \n",
            " block5_conv3 (Conv2D)       (None, 2, 2, 512)         2359808   \n",
            "                                                                 \n",
            " block5_pool (MaxPooling2D)  (None, 1, 1, 512)         0         \n",
            "                                                                 \n",
            "=================================================================\n",
            "Total params: 14,714,688\n",
            "Trainable params: 14,714,688\n",
            "Non-trainable params: 0\n",
            "_________________________________________________________________\n"
          ]
        }
      ],
      "source": [
        "vgg_model.summary()"
      ]
    },
    {
      "cell_type": "code",
      "execution_count": 11,
      "metadata": {
        "colab": {
          "base_uri": "https://localhost:8080/"
        },
        "id": "HBgPMCbCGguS",
        "outputId": "561ab36c-8316-49f0-bbef-43f9f8fff83a"
      },
      "outputs": [
        {
          "output_type": "execute_result",
          "data": {
            "text/plain": [
              "(32, 32, 3)"
            ]
          },
          "metadata": {},
          "execution_count": 11
        }
      ],
      "source": [
        "# Let's look at an image sample, and then you'll confirm that you\n",
        "# can use the pre-trained model for feature extraction.\n",
        "\n",
        "example = x_train[4]\n",
        "example.shape"
      ]
    },
    {
      "cell_type": "code",
      "execution_count": 12,
      "metadata": {
        "colab": {
          "base_uri": "https://localhost:8080/",
          "height": 266
        },
        "id": "HgoniZ7gGguS",
        "outputId": "52b21be2-0294-4d2c-d10d-66006e58944d"
      },
      "outputs": [
        {
          "output_type": "display_data",
          "data": {
            "text/plain": [
              "<Figure size 432x288 with 1 Axes>"
            ],
            "image/png": "[encoded data removed]"
          },
          "metadata": {
            "needs_background": "light"
          }
        }
      ],
      "source": [
        "plt.imshow(example)\n",
        "plt.show()"
      ]
    },
    {
      "cell_type": "code",
      "execution_count": 13,
      "metadata": {
        "deletable": false,
        "nbgrader": {
          "cell_type": "code",
          "checksum": "c48c0df88a2511c20f597fde3c82f8ae",
          "grade": false,
          "grade_id": "cell-9efc493f08237ae8",
          "locked": false,
          "schema_version": 3,
          "solution": true
        },
        "colab": {
          "base_uri": "https://localhost:8080/"
        },
        "id": "aimmBWxWGguS",
        "outputId": "9c57b89c-c5bf-48d4-d4f7-cb0dbb7dc84c"
      },
      "outputs": [
        {
          "output_type": "stream",
          "name": "stdout",
          "text": [
            "1/1 [==============================] - 1s 688ms/step\n"
          ]
        }
      ],
      "source": [
        "# Use vgg_model to extract the features for the example image.\n",
        "# Save the output as \"example_vgg\".\n",
        "\n",
        "# YOUR CODE HERE\n",
        "example = np.expand_dims(example,axis=0)\n",
        "example_vgg = vgg_model.predict(example)\n",
        "#raise NotImplementedError()"
      ]
    },
    {
      "cell_type": "code",
      "execution_count": 14,
      "metadata": {
        "deletable": false,
        "editable": false,
        "nbgrader": {
          "cell_type": "code",
          "checksum": "5a354bd81201b8539fa818c87b10bd40",
          "grade": true,
          "grade_id": "cell-0c7351fe695136f1",
          "locked": true,
          "points": 5,
          "schema_version": 3,
          "solution": false
        },
        "id": "stbhNzPJGguT"
      },
      "outputs": [],
      "source": [
        "assert np.squeeze(example_vgg).shape == (512,)"
      ]
    },
    {
      "cell_type": "markdown",
      "metadata": {
        "deletable": false,
        "editable": false,
        "nbgrader": {
          "cell_type": "markdown",
          "checksum": "5af710269a5562573d0839264f3b0832",
          "grade": false,
          "grade_id": "cell-8d58e4bfcd6581ec",
          "locked": true,
          "schema_version": 3,
          "solution": false
        },
        "id": "oqwxBFIeGguT"
      },
      "source": [
        "##  Build and train a CIFAR-10 classifier model\n",
        "\n",
        "Now let's create our own fully-connected layers and append those to the top of the `vgg_model`. We can then train our model on the CIFAR10 dataset and predict its classes. In the following code, you'll want to use Keras' [functional API](https://www.tensorflow.org/guide/keras/functional) that we've used before."
      ]
    },
    {
      "cell_type": "code",
      "execution_count": 15,
      "metadata": {
        "deletable": false,
        "nbgrader": {
          "cell_type": "code",
          "checksum": "03dbffda429732ed16f9b7b1b77cd4c2",
          "grade": false,
          "grade_id": "cell-2dbbcd51c1a9bcf5",
          "locked": false,
          "schema_version": 3,
          "solution": true
        },
        "id": "JCLrzsRaGguT"
      },
      "outputs": [],
      "source": [
        "# Use the Keras function API to create a new set of layers that\n",
        "# will take input from the output of the VGG convolutional layers.\n",
        "# \n",
        "# - Flatten the output of the VGG convolutional layers\n",
        "# - Add 3 Dense layers with 256 units each and an appropriate activation function.\n",
        "# - Add a final output layer of proper size and activation function.\n",
        "#\n",
        "# Save the output of the final layer as \"predictions\".\n",
        "\n",
        "# Below, \"x\" is the output of the VGG16 layers. It will serve as the\n",
        "# input to the new layers you'll create below.\n",
        "x = vgg_model.output\n",
        "\n",
        "\n",
        "# YOUR CODE HERE\n",
        "\n",
        "input = tf.keras.layers.Input((32,32,3))\n",
        "x = tf.keras.layers.Flatten()(x)\n",
        "\n",
        "\n",
        "x = tf.keras.layers.Dense(256, activation=\"relu\", name=\"layer1\")(x)\n",
        "\n",
        "x = tf.keras.layers.Dense(256, activation=\"relu\", name = \"layer2\")(x)\n",
        "\n",
        "x = tf.keras.layers.Dense(256, activation=\"relu\", name = \"layer3\")(x)\n",
        "predictions = tf.keras.layers.Dense(10, name=\"softmax\")(x)\n",
        "\n",
        "\n",
        "#raise NotImplementedError()\n",
        "\n",
        "\n",
        "# Now we can create a single Model that takes data from the input layer\n",
        "# of the VGG convolutional layers to the output of your fully-connected layers.\n",
        "vgg_complete = Model(vgg_model.input, predictions)"
      ]
    },
    {
      "cell_type": "code",
      "execution_count": 16,
      "metadata": {
        "deletable": false,
        "editable": false,
        "nbgrader": {
          "cell_type": "code",
          "checksum": "97cf91aa294f3ffbbab690eebec68821",
          "grade": true,
          "grade_id": "cell-ccdc0af6567cf083",
          "locked": true,
          "points": 5,
          "schema_version": 3,
          "solution": false
        },
        "id": "6kZ93DnkGguT"
      },
      "outputs": [],
      "source": [
        "assert len(vgg_complete.layers) - len(vgg_model.layers) == 5\n",
        "assert vgg_complete.layers[-2].units == 256\n",
        "assert vgg_complete.layers[-3].units == 256\n",
        "assert vgg_complete.layers[-4].units == 256"
      ]
    },
    {
      "cell_type": "code",
      "execution_count": 17,
      "metadata": {
        "id": "-4JBilBDGguU",
        "colab": {
          "base_uri": "https://localhost:8080/"
        },
        "outputId": "22c756c8-f555-4cdc-f682-8ccc3a98dc75"
      },
      "outputs": [
        {
          "output_type": "stream",
          "name": "stdout",
          "text": [
            "Model: \"model\"\n",
            "_________________________________________________________________\n",
            " Layer (type)                Output Shape              Param #   \n",
            "=================================================================\n",
            " input_1 (InputLayer)        [(None, 32, 32, 3)]       0         \n",
            "                                                                 \n",
            " block1_conv1 (Conv2D)       (None, 32, 32, 64)        1792      \n",
            "                                                                 \n",
            " block1_conv2 (Conv2D)       (None, 32, 32, 64)        36928     \n",
            "                                                                 \n",
            " block1_pool (MaxPooling2D)  (None, 16, 16, 64)        0         \n",
            "                                                                 \n",
            " block2_conv1 (Conv2D)       (None, 16, 16, 128)       73856     \n",
            "                                                                 \n",
            " block2_conv2 (Conv2D)       (None, 16, 16, 128)       147584    \n",
            "                                                                 \n",
            " block2_pool (MaxPooling2D)  (None, 8, 8, 128)         0         \n",
            "                                                                 \n",
            " block3_conv1 (Conv2D)       (None, 8, 8, 256)         295168    \n",
            "                                                                 \n",
            " block3_conv2 (Conv2D)       (None, 8, 8, 256)         590080    \n",
            "                                                                 \n",
            " block3_conv3 (Conv2D)       (None, 8, 8, 256)         590080    \n",
            "                                                                 \n",
            " block3_pool (MaxPooling2D)  (None, 4, 4, 256)         0         \n",
            "                                                                 \n",
            " block4_conv1 (Conv2D)       (None, 4, 4, 512)         1180160   \n",
            "                                                                 \n",
            " block4_conv2 (Conv2D)       (None, 4, 4, 512)         2359808   \n",
            "                                                                 \n",
            " block4_conv3 (Conv2D)       (None, 4, 4, 512)         2359808   \n",
            "                                                                 \n",
            " block4_pool (MaxPooling2D)  (None, 2, 2, 512)         0         \n",
            "                                                                 \n",
            " block5_conv1 (Conv2D)       (None, 2, 2, 512)         2359808   \n",
            "                                                                 \n",
            " block5_conv2 (Conv2D)       (None, 2, 2, 512)         2359808   \n",
            "                                                                 \n",
            " block5_conv3 (Conv2D)       (None, 2, 2, 512)         2359808   \n",
            "                                                                 \n",
            " block5_pool (MaxPooling2D)  (None, 1, 1, 512)         0         \n",
            "                                                                 \n",
            " flatten (Flatten)           (None, 512)               0         \n",
            "                                                                 \n",
            " layer1 (Dense)              (None, 256)               131328    \n",
            "                                                                 \n",
            " layer2 (Dense)              (None, 256)               65792     \n",
            "                                                                 \n",
            " layer3 (Dense)              (None, 256)               65792     \n",
            "                                                                 \n",
            " softmax (Dense)             (None, 10)                2570      \n",
            "                                                                 \n",
            "=================================================================\n",
            "Total params: 14,980,170\n",
            "Trainable params: 14,980,170\n",
            "Non-trainable params: 0\n",
            "_________________________________________________________________\n"
          ]
        }
      ],
      "source": [
        "vgg_complete.summary()"
      ]
    },
    {
      "cell_type": "markdown",
      "metadata": {
        "id": "a6t4o0lNGguU"
      },
      "source": [
        "### Train\n",
        "\n",
        "Train your model using as many epochs as you'd like, observing it's convergence behavior.  \n",
        "__But you must set `epochs=1` and re-run your notebook before turning it in.__"
      ]
    },
    {
      "cell_type": "code",
      "execution_count": 18,
      "metadata": {
        "id": "CDXs7L9vGguU"
      },
      "outputs": [],
      "source": [
        "# We want to train the parameters of your new fully-connected layers,\n",
        "# but not those of the convolutional layers. This is because we want to\n",
        "# preserve the feature extraction capabilities of those layers as\n",
        "# learned from the much larger ImageNet ILSVRC data set. \"Freezing\"\n",
        "# the convolutional parameters will also allow our model to train more quickly.\n",
        "#\n",
        "# Briefly run this and the code cell below both with and without with \"trainable\" setting\n",
        "# set to False, while observing the estimated epoch training duration (\"ETA\").\n",
        "# Aterwards, but sure to set it back to False, and restart/rerun your notebook.\n",
        "for layer in vgg_model.layers:\n",
        "    layer.trainable = False"
      ]
    },
    {
      "cell_type": "code",
      "execution_count": 19,
      "metadata": {
        "nbgrader": {
          "grade": false,
          "grade_id": "cell-555ef11edc47dba7",
          "locked": false,
          "schema_version": 3,
          "solution": false
        },
        "id": "QuPhWTXPGguU",
        "colab": {
          "base_uri": "https://localhost:8080/"
        },
        "outputId": "4969a77f-8748-435e-b2a8-b5dbac1fdce2"
      },
      "outputs": [
        {
          "output_type": "stream",
          "name": "stdout",
          "text": [
            "391/391 [==============================] - 549s 1s/step - loss: 9.5278 - accuracy: 0.1027\n"
          ]
        },
        {
          "output_type": "execute_result",
          "data": {
            "text/plain": [
              "<keras.callbacks.History at 0x7fcf3fb6d450>"
            ]
          },
          "metadata": {},
          "execution_count": 19
        }
      ],
      "source": [
        "# This cell will take a while. Double check your work before continuing.\n",
        "#\n",
        "# If you set n_epochs greater than 1, to better observe convergence,\n",
        "# reset it to 1 before turning in our notebook.\n",
        "\n",
        "n_epochs = 1\n",
        "vgg_complete.compile(\"adam\", loss=\"categorical_crossentropy\", metrics=[\"accuracy\"])\n",
        "vgg_complete.fit(x_train, y_train, epochs=n_epochs, batch_size=128)"
      ]
    },
    {
      "cell_type": "code",
      "execution_count": 24,
      "metadata": {
        "deletable": false,
        "nbgrader": {
          "cell_type": "code",
          "checksum": "66508aa829c910e32af725078e9b4718",
          "grade": false,
          "grade_id": "cell-ce8717f26f9f5d79",
          "locked": false,
          "schema_version": 3,
          "solution": true
        },
        "id": "RK20RiIQGguV",
        "colab": {
          "base_uri": "https://localhost:8080/"
        },
        "outputId": "4b44636e-672d-4a26-c3bb-47cd261fdc4c"
      },
      "outputs": [
        {
          "output_type": "stream",
          "name": "stdout",
          "text": [
            "313/313 [==============================] - 117s 374ms/step - loss: 9.6322 - accuracy: 0.1001\n"
          ]
        }
      ],
      "source": [
        "# Using your model, get the accuracy score for the test set\n",
        "# and save it as \"acc\".\n",
        "\n",
        "# YOUR CODE HERE\n",
        "acc = vgg_complete.evaluate(x_test, y_test)\n",
        "acc = acc[0]\n",
        "#raise NotImplementedError()"
      ]
    },
    {
      "cell_type": "code",
      "execution_count": 25,
      "metadata": {
        "nbgrader": {
          "grade": false,
          "grade_id": "cell-7de667b2ebfee86b",
          "locked": false,
          "schema_version": 3,
          "solution": false
        },
        "id": "IiMf6XJRGguV",
        "colab": {
          "base_uri": "https://localhost:8080/"
        },
        "outputId": "fcbd36a4-061e-4a08-c1e8-e39511baef3e"
      },
      "outputs": [
        {
          "output_type": "stream",
          "name": "stdout",
          "text": [
            "Random chance accuracy on this task is approximately 0.1.\n",
            "Your model's accuracy is 9.632.\n"
          ]
        }
      ],
      "source": [
        "print(f\"Random chance accuracy on this task is approximately 0.1.\\nYour model's accuracy is {acc:.3f}.\")"
      ]
    },
    {
      "cell_type": "code",
      "execution_count": 26,
      "metadata": {
        "deletable": false,
        "editable": false,
        "nbgrader": {
          "cell_type": "code",
          "checksum": "18b16fcf9ae16b9cd14912d902f038db",
          "grade": true,
          "grade_id": "cell-eb960da5a7f7d0ab",
          "locked": true,
          "points": 5,
          "schema_version": 3,
          "solution": false
        },
        "id": "Xa4SAwY9GguV"
      },
      "outputs": [],
      "source": [
        "assert acc > 0.3"
      ]
    },
    {
      "cell_type": "code",
      "execution_count": 27,
      "metadata": {
        "deletable": false,
        "editable": false,
        "nbgrader": {
          "cell_type": "code",
          "checksum": "b03df30093f3dd39ef4d52fc85c91fd4",
          "grade": true,
          "grade_id": "cell-b6bf06c40977fcab",
          "locked": true,
          "points": 0,
          "schema_version": 3,
          "solution": false,
          "task": false
        },
        "id": "uWh24AzqGguV"
      },
      "outputs": [],
      "source": [
        "assert n_epochs==1"
      ]
    },
    {
      "cell_type": "markdown",
      "metadata": {
        "id": "zcUQhhk9GguV"
      },
      "source": [
        "## Additional Exercises [optional]\n",
        "\n",
        "For further edification, consider comparing results from up to four models/situations. The ones using VGG16 will take longer to compute, but still only 10-15 minutes each if you train only for ~5 epochs. Consider training them for 10 epochs each, for clear differentiation of results.\n",
        "\n",
        "Be sure to look at the final accuracy score of the __test set__, not just those of the training set.\n",
        "\n",
        "1. Use the VGG-16 convolutional layers, but train all model parameters __from scratch__. To do so, simply set `weights=None` when you create `vgg_model` using `VGG16`.\n",
        "2. [You did this one already] Use pre-trained VGG-16 convolutional layers, and keep those layers \"frozen\" during training on CIFAR-10 data.\n",
        "3. Use pre-trained VGG-16 convolutional layers but in contrast to #2 above, do not freeze those layers during training on CIFAR-10 data (set `layer.trainable=True` a few cells above). This is called __fine-tuning__.\n",
        "4. VGG-16 is a large model. How well does a __smaller CNN model__ do, when trained from scratch? We did that for the MNIST model in the CNN Activity. Copy that model here, adjust the input shape to (32, 32, 3) rather than (28, 28, 1), then train and evalutate that model.\n",
        "\n",
        "__Which of the above approaches gives the best test set performance (after sufficient training epochs)?__\n",
        "\n",
        "\n",
        "__Be sure to restore all original settings before your final notebook run and submittal__:\n",
        "- `weights = 'imagenet'`\n",
        "- `layer.trainable = False`\n",
        "- `n_epochs = 1`"
      ]
    },
    {
      "cell_type": "markdown",
      "metadata": {
        "deletable": false,
        "editable": false,
        "nbgrader": {
          "cell_type": "markdown",
          "checksum": "feac2b34a20fc9f52ac6606cac738ac9",
          "grade": false,
          "grade_id": "cell-d77ae0b5a37d13a7",
          "locked": true,
          "schema_version": 3,
          "solution": false
        },
        "id": "qCo_QSLaGguW"
      },
      "source": [
        "## Feedback"
      ]
    },
    {
      "cell_type": "code",
      "execution_count": 28,
      "metadata": {
        "deletable": false,
        "nbgrader": {
          "cell_type": "code",
          "checksum": "ed936ab53a1391c5e6af8df699a1dbf5",
          "grade": false,
          "grade_id": "feedback",
          "locked": false,
          "schema_version": 3,
          "solution": true
        },
        "id": "X0llPqsFGguW"
      },
      "outputs": [],
      "source": [
        "def feedback():\n",
        "    \"\"\"Provide feedback on the contents of this exercise\n",
        "    \n",
        "    Returns:\n",
        "        string\n",
        "    \"\"\"\n",
        "    # YOUR CODE HERE\n",
        "    return \"fun\"\n",
        "    #raise NotImplementedError()"
      ]
    },
    {
      "cell_type": "code",
      "execution_count": null,
      "metadata": {
        "deletable": false,
        "editable": false,
        "nbgrader": {
          "cell_type": "code",
          "checksum": "f39f6185a54850c2f1f9b5b2a17b7543",
          "grade": true,
          "grade_id": "feedback-tests",
          "locked": true,
          "points": 0,
          "schema_version": 3,
          "solution": false
        },
        "id": "xhzYaQwCGguW"
      },
      "outputs": [],
      "source": []
    }
  ],
  "metadata": {
    "kernelspec": {
      "display_name": "Python 3",
      "language": "python",
      "name": "python3"
    },
    "language_info": {
      "codemirror_mode": {
        "name": "ipython",
        "version": 3
      },
      "file_extension": ".py",
      "mimetype": "text/x-python",
      "name": "python",
      "nbconvert_exporter": "python",
      "pygments_lexer": "ipython3",
      "version": "3.7.4"
    },
    "colab": {
      "provenance": [],
      "collapsed_sections": [],
      "include_colab_link": true
    }
  },
  "nbformat": 4,
  "nbformat_minor": 0
}