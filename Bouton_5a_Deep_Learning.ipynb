{
  "cells": [
    {
      "cell_type": "markdown",
      "metadata": {
        "id": "view-in-github",
        "colab_type": "text"
      },
      "source": [
        "<a href=\"https://colab.research.google.com/github/chrisbouton/MachineLearningMines/blob/main/Bouton_5a_Deep_Learning.ipynb\" target=\"_parent\"><img src=\"https://colab.research.google.com/assets/colab-badge.svg\" alt=\"Open In Colab\"/></a>"
      ]
    },
    {
      "cell_type": "markdown",
      "metadata": {
        "id": "pxeAY_B-iKoK"
      },
      "source": [
        "## CSCI 470 Activities and Case Studies\n",
        "\n",
        "1. For all activities, you are allowed to collaborate with a partner. \n",
        "1. For case studies, you should work individually and are **not** allowed to collaborate.\n",
        "\n",
        "By filling out this notebook and submitting it, you acknowledge that you are aware of the above policies and are agreeing to comply with them."
      ]
    },
    {
      "cell_type": "markdown",
      "metadata": {
        "id": "2ng0bzEfiKoN"
      },
      "source": [
        "Some considerations with regard to how these notebooks will be graded:\n",
        "\n",
        "1. Cells in which \"# YOUR CODE HERE\" is found are the cells where your graded code should be written.\n",
        "2. In order to test out or debug your code you may also create notebook cells or edit existing notebook cells other than \"# YOUR CODE HERE\". We actually highly recommend you do so to gain a better understanding of what is happening. However, during grading, **these changes are ignored**. \n",
        "2. You must ensure that all your code for the particular task is available in the cells that say \"# YOUR CODE HERE\"\n",
        "3. Every cell that says \"# YOUR CODE HERE\" is followed by a \"raise NotImplementedError\". You need to remove that line. During grading, if an error occurs then you will not receive points for your work in that section.\n",
        "4. If your code passes the \"assert\" statements, then no output will result. If your code fails the \"assert\" statements, you will get an \"AssertionError\". Getting an assertion error means you will not receive points for that particular task.\n",
        "5. If you edit the \"assert\" statements to make your code pass, they will still fail when they are graded since the \"assert\" statements will revert to the original. Make sure you don't edit the assert statements.\n",
        "6. We may sometimes have \"hidden\" tests for grading. This means that passing the visible \"assert\" statements is not sufficient. The \"assert\" statements are there as a guide but you need to make sure you understand what you're required to do and ensure that you are doing it correctly. Passing the visible tests is necessary but not sufficient to get the grade for that cell.\n",
        "7. When you are asked to define a function, make sure you **don't** use any variables outside of the parameters passed to the function. You can think of the parameters being passed to the function as a hint. Make sure you're using all of those variables.\n",
        "8. Finally, **make sure you run \"Kernel > Restart and Run All\"** and pass all the asserts before submitting. If you don't restart the kernel, there may be some code that you ran and deleted that is still being used and that was why your asserts were passing."
      ]
    },
    {
      "cell_type": "markdown",
      "metadata": {
        "id": "peZlh40I73Ql"
      },
      "source": [
        "# Deep Learning\n",
        "\n",
        "In this exercise, you will use a deep neural network to predict the values of houses based on some provided input data. You will use keras to build the model. Below is a description of how the keras models are set up."
      ]
    },
    {
      "cell_type": "code",
      "execution_count": 1,
      "metadata": {
        "id": "BklNQ52d73Qx"
      },
      "outputs": [],
      "source": [
        "import tensorflow as tf\n",
        "import tensorflow.keras as keras\n",
        "import numpy as np\n",
        "from tensorflow.keras import Sequential\n",
        "from tensorflow.keras.layers import Dense, Dropout\n",
        "from tensorflow.keras.optimizers import SGD, Adam\n",
        "\n",
        "import pandas as pd\n",
        "import sklearn\n",
        "from sklearn.datasets import fetch_california_housing\n",
        "from sklearn.model_selection import train_test_split\n",
        "\n",
        "import matplotlib.pyplot as plt\n",
        "\n",
        "plt.style.use(\"ggplot\")\n",
        "np.random.seed(0)\n",
        "tf.random.set_seed(0)"
      ]
    },
    {
      "cell_type": "code",
      "execution_count": 2,
      "metadata": {
        "id": "lOEAeGxU73Qz"
      },
      "outputs": [],
      "source": [
        "house_data = fetch_california_housing()"
      ]
    },
    {
      "cell_type": "code",
      "execution_count": 3,
      "metadata": {
        "colab": {
          "base_uri": "https://localhost:8080/"
        },
        "id": "Rstw6PPE73Q1",
        "outputId": "9cd11a47-2830-4b2e-da2d-e34157f18749"
      },
      "outputs": [
        {
          "output_type": "stream",
          "name": "stdout",
          "text": [
            ".. _california_housing_dataset:\n",
            "\n",
            "California Housing dataset\n",
            "--------------------------\n",
            "\n",
            "**Data Set Characteristics:**\n",
            "\n",
            "    :Number of Instances: 20640\n",
            "\n",
            "    :Number of Attributes: 8 numeric, predictive attributes and the target\n",
            "\n",
            "    :Attribute Information:\n",
            "        - MedInc        median income in block group\n",
            "        - HouseAge      median house age in block group\n",
            "        - AveRooms      average number of rooms per household\n",
            "        - AveBedrms     average number of bedrooms per household\n",
            "        - Population    block group population\n",
            "        - AveOccup      average number of household members\n",
            "        - Latitude      block group latitude\n",
            "        - Longitude     block group longitude\n",
            "\n",
            "    :Missing Attribute Values: None\n",
            "\n",
            "This dataset was obtained from the StatLib repository.\n",
            "https://www.dcc.fc.up.pt/~ltorgo/Regression/cal_housing.html\n",
            "\n",
            "The target variable is the median house value for California districts,\n",
            "expressed in hundreds of thousands of dollars ($100,000).\n",
            "\n",
            "This dataset was derived from the 1990 U.S. census, using one row per census\n",
            "block group. A block group is the smallest geographical unit for which the U.S.\n",
            "Census Bureau publishes sample data (a block group typically has a population\n",
            "of 600 to 3,000 people).\n",
            "\n",
            "An household is a group of people residing within a home. Since the average\n",
            "number of rooms and bedrooms in this dataset are provided per household, these\n",
            "columns may take surpinsingly large values for block groups with few households\n",
            "and many empty houses, such as vacation resorts.\n",
            "\n",
            "It can be downloaded/loaded using the\n",
            ":func:`sklearn.datasets.fetch_california_housing` function.\n",
            "\n",
            ".. topic:: References\n",
            "\n",
            "    - Pace, R. Kelley and Ronald Barry, Sparse Spatial Autoregressions,\n",
            "      Statistics and Probability Letters, 33 (1997) 291-297\n",
            "\n"
          ]
        }
      ],
      "source": [
        "print(house_data[\"DESCR\"])"
      ]
    },
    {
      "cell_type": "code",
      "execution_count": 4,
      "metadata": {
        "id": "V6yomxx_73Q2"
      },
      "outputs": [],
      "source": [
        "house_features = pd.DataFrame(house_data[\"data\"], columns=house_data[\"feature_names\"])\n",
        "house_prices = pd.Series(house_data[\"target\"])\n",
        "x_train, x_test, y_train, y_test = train_test_split(house_features, house_prices, test_size=0.2, random_state=0)"
      ]
    },
    {
      "cell_type": "code",
      "execution_count": 5,
      "metadata": {
        "colab": {
          "base_uri": "https://localhost:8080/"
        },
        "id": "JS1WEyq473Q2",
        "outputId": "1393ffdf-d299-440d-d9b4-2a1f1707d1b2"
      },
      "outputs": [
        {
          "output_type": "execute_result",
          "data": {
            "text/plain": [
              "(16512, 8)"
            ]
          },
          "metadata": {},
          "execution_count": 5
        }
      ],
      "source": [
        "x_train.shape"
      ]
    },
    {
      "cell_type": "markdown",
      "metadata": {
        "id": "YDDMD-fc73Q2"
      },
      "source": [
        "This tells us that there are 16512 samples with 8 features each."
      ]
    },
    {
      "cell_type": "code",
      "execution_count": 6,
      "metadata": {
        "colab": {
          "base_uri": "https://localhost:8080/"
        },
        "id": "JJUWPv5M73Q3",
        "outputId": "9209beaa-15df-479e-e28b-8f1ea11dbae7"
      },
      "outputs": [
        {
          "output_type": "execute_result",
          "data": {
            "text/plain": [
              "(16512,)"
            ]
          },
          "metadata": {},
          "execution_count": 6
        }
      ],
      "source": [
        "y_train.shape"
      ]
    },
    {
      "cell_type": "markdown",
      "metadata": {
        "id": "Zw7tYjwQ73Q3"
      },
      "source": [
        "This tells us that there are 16512 samples of a single target."
      ]
    },
    {
      "cell_type": "code",
      "execution_count": 7,
      "metadata": {
        "colab": {
          "base_uri": "https://localhost:8080/"
        },
        "id": "X4LXZO6b73Q4",
        "outputId": "9cd9e70a-ce53-49e4-b240-cf1e1ba81dd6"
      },
      "outputs": [
        {
          "output_type": "execute_result",
          "data": {
            "text/plain": [
              "(2.072498958938953, 1.1569151048305317, 0.14999, 5.00001)"
            ]
          },
          "metadata": {},
          "execution_count": 7
        }
      ],
      "source": [
        "y_train.mean(), y_train.std(), y_train.min(), y_train.max()"
      ]
    },
    {
      "cell_type": "markdown",
      "metadata": {
        "id": "4RNTghM_73Q4"
      },
      "source": [
        "The keras model consists of multiple parts:\n",
        "\n",
        "1. Construct the model layers, neurons per layer, and activation functions\n",
        "1. Determine the loss function, metrics, and optimization method\n",
        "1. Fit the model to some data\n",
        "1. Evaluate the model using the same metric\n",
        "\n",
        "Some relevant docs:\n",
        " - [initializers](https://keras.io/initializers/)\n",
        " - [loss functions](https://www.tensorflow.org/api_docs/python/tf/keras/losses)\n",
        " - [regularizations](https://keras.io/regularizers/)\n",
        " - [optimizers](https://keras.io/optimizers/)\n",
        " - [metrics](https://www.tensorflow.org/api_docs/python/tf/keras/metrics)\n"
      ]
    },
    {
      "cell_type": "markdown",
      "metadata": {
        "id": "5uuYQoLp73Q4"
      },
      "source": [
        "First, to construct a model, use the [Sequential](https://keras.io/getting-started/sequential-model-guide/) object. You can pass a list of layers to the sequential object. For this exercise, we will only be using the [Dense](https://keras.io/layers/core/#dense) layers."
      ]
    },
    {
      "cell_type": "code",
      "execution_count": 8,
      "metadata": {
        "colab": {
          "base_uri": "https://localhost:8080/"
        },
        "id": "K6PeTXhf73Q7",
        "outputId": "f18a3959-5bd9-41ba-8ec1-bfe86a2a4166"
      },
      "outputs": [
        {
          "output_type": "stream",
          "name": "stdout",
          "text": [
            "Model: \"sequential\"\n",
            "_________________________________________________________________\n",
            " Layer (type)                Output Shape              Param #   \n",
            "=================================================================\n",
            " layer1 (Dense)              (16512, 100)              900       \n",
            "                                                                 \n",
            " layer2 (Dense)              (16512, 100)              10100     \n",
            "                                                                 \n",
            " layer3 (Dense)              (16512, 100)              10100     \n",
            "                                                                 \n",
            " outputLayer (Dense)         (16512, 1)                101       \n",
            "                                                                 \n",
            "=================================================================\n",
            "Total params: 21,201\n",
            "Trainable params: 21,201\n",
            "Non-trainable params: 0\n",
            "_________________________________________________________________\n"
          ]
        }
      ],
      "source": [
        "# Create a list of layers with the variable name \"layers\".\n",
        "#\n",
        "# - The list should contain 3 consecutive hidden layers with 100 neurons each,\n",
        "#   and an output layer with 1 neuron. \n",
        "# - In the first layer, you should specify an input_shape. It is not necessary to do so\n",
        "#   in subsequent layers.\n",
        "# - The output layer should have 1 neuron because we are predicting a single regression target.\n",
        "# - Use any activation you like such as \"relu\" or \"tanh\", you can alternate for each layer\n",
        "#   For your first run, try using the linear activation and then see if modifying the activations\n",
        "#   improves the result.\n",
        "\n",
        "# Pass the list to keras.Sequential and save the returned model to the variable name \"model\".\n",
        "\n",
        "# Optional - give each layer a name and see how that shows up in the model summary.\n",
        "\n",
        "# YOUR CODE HERE\n",
        "#raise NotImplementedError()\n",
        "layer1 = keras.layers.Dense(100, activation=\"relu\", name=\"layer1\")\n",
        "layer2 = keras.layers.Dense(100, activation=\"relu\", name=\"layer2\")\n",
        "layer3 = keras.layers.Dense(100, name=\"layer3\")\n",
        "outputLayer = keras.layers.Dense(1, name=\"outputLayer\")\n",
        "layers = [layer1,layer2,layer3,outputLayer]\n",
        "\n",
        "model = keras.Sequential(layers)\n",
        "y = model(x_train.values)\n",
        "model.summary()"
      ]
    },
    {
      "cell_type": "code",
      "execution_count": 9,
      "metadata": {
        "id": "_xI-mvPz73Q8"
      },
      "outputs": [],
      "source": [
        "assert isinstance(model, Sequential)\n",
        "assert len(layers) == 4\n",
        "for i, layer in enumerate(layers):\n",
        "    assert isinstance(layers[i], Dense)\n",
        "    assert layer.weights[1].shape == [100, 100, 100, 1][i]"
      ]
    },
    {
      "cell_type": "code",
      "execution_count": 10,
      "metadata": {
        "id": "MObQI1ykiKoZ"
      },
      "outputs": [],
      "source": [
        "initial_weights = model.get_weights()"
      ]
    },
    {
      "cell_type": "markdown",
      "metadata": {
        "id": "ET37Z5F273Q8"
      },
      "source": [
        "In TensorFlow, models are \"compiled\" before training. Compiling specifies the type of optimizer (e.g., gradient descent) and loss function, and creates code that will run efficiently on your hardware during training and model prediction.\n",
        "\n",
        "Review the model's `compile()` method, and use it to create compiled code in the cell below.  \n",
        "https://www.tensorflow.org/api_docs/python/tf/keras/Model#compile\n",
        "\n",
        "In this notebook we'll use the [stochastic gradient descent (SGD)](https://www.tensorflow.org/api_docs/python/tf/keras/optimizers/SGD) and the [Adam](https://www.tensorflow.org/api_docs/python/tf/keras/optimizers/Adam) optimizers."
      ]
    },
    {
      "cell_type": "code",
      "execution_count": 11,
      "metadata": {
        "id": "M1HSCPWV73Q8"
      },
      "outputs": [],
      "source": [
        "# - Instantiate an SGD optimizer with learning rate of 1e-7, and save it as \"optimizer\"\n",
        "# - Apply the model's .compile() method to set it up for training.\n",
        "#   - Note that you can use each loss and metric's string name rather\n",
        "#     than instantiating a loss or metric object, and passing the object.\n",
        "#     Because we want to set a non-defaul learning rate, we must\n",
        "#     instantiate an optimizer object and pass that to compile(), rather\n",
        "#     than an optimizer string name.\n",
        "optimizer = keras.optimizers.SGD(learning_rate=1e-7)\n",
        "\n",
        "model.compile(optimizer=optimizer, loss = \"mae\", metrics=[\"mse\",\"mae\"])\n",
        "# Set up the model to do the following:\n",
        "# - use stochastic gradient descent (sgd) to fit the model (via your 'optimizer' object)\n",
        "# - use mean absolute error (mae) as its *loss function*\n",
        "# - use mean absolute error (mae) as one of its *metrics*\n",
        "# - use mean squared error (mae) as one of its *metrics*\n",
        "\n",
        "# YOUR CODE HERE\n",
        "#raise NotImplementedError()"
      ]
    },
    {
      "cell_type": "code",
      "execution_count": 12,
      "metadata": {
        "id": "rPDkIZNE73RA"
      },
      "outputs": [],
      "source": [
        "assert isinstance(model.optimizer, keras.optimizers.SGD)\n",
        "assert model.loss in [\"mae\", \"mean_absolute_error\"]"
      ]
    },
    {
      "cell_type": "markdown",
      "metadata": {
        "id": "uU9Mg6MgiKob"
      },
      "source": [
        "Now we'll train the model for 50 epochs with a batch size of 1000. This means the following:\n",
        "\n",
        "- The training set will be split into batches, each composed of 1000 samples.\n",
        "- Each batch will be processed by the neural network to produce 1000 predications.\n",
        "- The predictions will be compared against the targets to compute the losses.\n",
        "- The loss values are passed backwards through the network to compute the loss gradients for those 1000 samples.\n",
        "- Via the SGD procedure, the averages of those 1000 gradients are used to update the model's parameters.\n",
        "- After all batches have been processed in this manner, one \"epoch\" has been completed.\n",
        "- This is done again and again until the number of specified epochs (50) are completed."
      ]
    },
    {
      "cell_type": "code",
      "execution_count": 13,
      "metadata": {
        "colab": {
          "base_uri": "https://localhost:8080/"
        },
        "id": "rHtGEIqL73RE",
        "outputId": "f577c729-6206-466d-d3c4-1656757b731a"
      },
      "outputs": [
        {
          "output_type": "stream",
          "name": "stdout",
          "text": [
            "Epoch 1/20\n",
            "17/17 [==============================] - 1s 11ms/step - loss: 71.4714 - mse: 9845.5830 - mae: 71.4714\n",
            "Epoch 2/20\n",
            "17/17 [==============================] - 0s 13ms/step - loss: 60.6285 - mse: 7296.2046 - mae: 60.6285\n",
            "Epoch 3/20\n",
            "17/17 [==============================] - 0s 13ms/step - loss: 49.8112 - mse: 5167.8652 - mae: 49.8112\n",
            "Epoch 4/20\n",
            "17/17 [==============================] - 0s 13ms/step - loss: 39.0175 - mse: 3444.7388 - mae: 39.0175\n",
            "Epoch 5/20\n",
            "17/17 [==============================] - 0s 12ms/step - loss: 28.2874 - mse: 2053.2122 - mae: 28.2874\n",
            "Epoch 6/20\n",
            "17/17 [==============================] - 0s 11ms/step - loss: 18.3729 - mse: 1054.9031 - mae: 18.3729\n",
            "Epoch 7/20\n",
            "17/17 [==============================] - 0s 12ms/step - loss: 12.0713 - mse: 532.7316 - mae: 12.0713\n",
            "Epoch 8/20\n",
            "17/17 [==============================] - 0s 11ms/step - loss: 9.1944 - mse: 290.7632 - mae: 9.1944\n",
            "Epoch 9/20\n",
            "17/17 [==============================] - 0s 12ms/step - loss: 8.1450 - mse: 192.6395 - mae: 8.1450\n",
            "Epoch 10/20\n",
            "17/17 [==============================] - 0s 11ms/step - loss: 7.8280 - mse: 156.9136 - mae: 7.8280\n",
            "Epoch 11/20\n",
            "17/17 [==============================] - 0s 15ms/step - loss: 7.7096 - mse: 142.8597 - mae: 7.7096\n",
            "Epoch 12/20\n",
            "17/17 [==============================] - 0s 12ms/step - loss: 7.6341 - mse: 136.4726 - mae: 7.6341\n",
            "Epoch 13/20\n",
            "17/17 [==============================] - 0s 12ms/step - loss: 7.5687 - mse: 131.8058 - mae: 7.5687\n",
            "Epoch 14/20\n",
            "17/17 [==============================] - 0s 10ms/step - loss: 7.5073 - mse: 128.3010 - mae: 7.5073\n",
            "Epoch 15/20\n",
            "17/17 [==============================] - 0s 14ms/step - loss: 7.4472 - mse: 126.4669 - mae: 7.4472\n",
            "Epoch 16/20\n",
            "17/17 [==============================] - 0s 11ms/step - loss: 7.3885 - mse: 124.2214 - mae: 7.3885\n",
            "Epoch 17/20\n",
            "17/17 [==============================] - 0s 9ms/step - loss: 7.3309 - mse: 122.1650 - mae: 7.3309\n",
            "Epoch 18/20\n",
            "17/17 [==============================] - 0s 10ms/step - loss: 7.2747 - mse: 120.6866 - mae: 7.2747\n",
            "Epoch 19/20\n",
            "17/17 [==============================] - 0s 10ms/step - loss: 7.2194 - mse: 118.8826 - mae: 7.2194\n",
            "Epoch 20/20\n",
            "17/17 [==============================] - 0s 12ms/step - loss: 7.1651 - mse: 117.5641 - mae: 7.1651\n"
          ]
        }
      ],
      "source": [
        "# Now fit the model\n",
        "n_epochs = 20\n",
        "history = model.fit(x_train, y_train, batch_size=1000, epochs=n_epochs)"
      ]
    },
    {
      "cell_type": "markdown",
      "metadata": {
        "id": "TxQTMNzmiKob"
      },
      "source": [
        "We had you set the learning rate to a very small value, so you could seed the iterative improvement across training epochs. More typicaly learning rates are 1e-3 or 1e-4, but the housing data is so \"simple\" relative to the power of our neural network, we would have had pretty good convergence within a single epoch, and you would not have been able to observe the more typical, steady progress to convergence."
      ]
    },
    {
      "cell_type": "code",
      "execution_count": 14,
      "metadata": {
        "colab": {
          "base_uri": "https://localhost:8080/",
          "height": 317
        },
        "id": "15wofLcPiKob",
        "outputId": "978743f3-b0c9-43a2-cea7-a6ec4312b495"
      },
      "outputs": [
        {
          "output_type": "stream",
          "name": "stdout",
          "text": [
            "Training loss on the final epoch was: 7.1651\n"
          ]
        },
        {
          "output_type": "display_data",
          "data": {
            "text/plain": [
              "<Figure size 864x288 with 2 Axes>"
            ],
            "image/png": "[encoded data removed]"
          },
          "metadata": {}
        }
      ],
      "source": [
        "# Let's plot the training set loss as a function of training epoch, as well\n",
        "# as the metric scores. In general, if you don't see your loss curve flatten\n",
        "# at the end of the training session, you'l want to increase the number of\n",
        "# training epochs, or increase the learning rate.\n",
        "#\n",
        "# In this case, if it doesn't look nearly flat than you've likely specified\n",
        "# your model or learning rate incorrectly.\n",
        "\n",
        "plt.figure(figsize=(12, 4))\n",
        "plt.subplot(1, 2, 1)\n",
        "plt.plot(np.arange(1, n_epochs+1), history.history['loss'])\n",
        "plt.title('Training set loss')\n",
        "plt.xlabel('Epoch')\n",
        "plt.ylabel('Loss')\n",
        "\n",
        "plt.subplot(1, 2, 2)\n",
        "plt.semilogy(np.arange(1, n_epochs+1), history.history['mae'], label='mae')\n",
        "plt.semilogy(np.arange(1, n_epochs+1), history.history['mse'], label='mse')\n",
        "plt.legend()\n",
        "plt.title('Training set metric scores')\n",
        "plt.xlabel('Epoch')\n",
        "plt.ylabel('Error')\n",
        "\n",
        "print(f\"Training loss on the final epoch was: {history.history['loss'][-1]:0.4f}\")"
      ]
    },
    {
      "cell_type": "code",
      "execution_count": 15,
      "metadata": {
        "colab": {
          "base_uri": "https://localhost:8080/"
        },
        "id": "u-9dv4rc73RE",
        "outputId": "872531b3-2f3b-4041-9f03-0dac3a6bc972"
      },
      "outputs": [
        {
          "output_type": "stream",
          "name": "stdout",
          "text": [
            "129/129 [==============================] - 1s 4ms/step - loss: 7.0032 - mse: 103.2893 - mae: 7.0032\n"
          ]
        },
        {
          "output_type": "execute_result",
          "data": {
            "text/plain": [
              "[7.003189563751221, 103.2892837524414, 7.003189563751221]"
            ]
          },
          "metadata": {},
          "execution_count": 15
        }
      ],
      "source": [
        "# Here we can evaluate how our model does based on the test data\n",
        "model.evaluate(x_test, y_test)"
      ]
    },
    {
      "cell_type": "markdown",
      "metadata": {
        "id": "HjQ6dSYs73RF"
      },
      "source": [
        "Now let's try another optimizer instead of stochastic gradient descent (SGD). [Adam](https://keras.io/optimizers/#adam) is the recommended default for training neural networks since it usually performs quite well. In the next cell, compile the model with Adam instead of SGD and use the same loss and metrics. After compiling, fit the data for as many epochs as you think it takes to see the value start to converge."
      ]
    },
    {
      "cell_type": "code",
      "execution_count": 16,
      "metadata": {
        "colab": {
          "base_uri": "https://localhost:8080/"
        },
        "id": "tbkjvYLx73RF",
        "outputId": "90b2d77c-dec5-449f-847c-6470846f52e1"
      },
      "outputs": [
        {
          "output_type": "stream",
          "name": "stdout",
          "text": [
            "Epoch 1/15\n",
            "17/17 [==============================] - 1s 14ms/step - loss: 65.0085 - mse: 8361.2158 - mae: 65.0085\n",
            "Epoch 2/15\n",
            "17/17 [==============================] - 0s 13ms/step - loss: 40.1042 - mse: 3613.0898 - mae: 40.1042\n",
            "Epoch 3/15\n",
            "17/17 [==============================] - 0s 12ms/step - loss: 17.2110 - mse: 949.4772 - mae: 17.2110\n",
            "Epoch 4/15\n",
            "17/17 [==============================] - 0s 11ms/step - loss: 8.5345 - mse: 164.6090 - mae: 8.5345\n",
            "Epoch 5/15\n",
            "17/17 [==============================] - 0s 11ms/step - loss: 8.0523 - mse: 118.2296 - mae: 8.0523\n",
            "Epoch 6/15\n",
            "17/17 [==============================] - 0s 12ms/step - loss: 7.4949 - mse: 139.8436 - mae: 7.4949\n",
            "Epoch 7/15\n",
            "17/17 [==============================] - 0s 13ms/step - loss: 7.0787 - mse: 115.4734 - mae: 7.0787\n",
            "Epoch 8/15\n",
            "17/17 [==============================] - 0s 14ms/step - loss: 6.6749 - mse: 103.1806 - mae: 6.6749\n",
            "Epoch 9/15\n",
            "17/17 [==============================] - 0s 13ms/step - loss: 6.2727 - mse: 93.4244 - mae: 6.2727\n",
            "Epoch 10/15\n",
            "17/17 [==============================] - 0s 12ms/step - loss: 5.8713 - mse: 81.7222 - mae: 5.8713\n",
            "Epoch 11/15\n",
            "17/17 [==============================] - 0s 12ms/step - loss: 5.4759 - mse: 73.2210 - mae: 5.4759\n",
            "Epoch 12/15\n",
            "17/17 [==============================] - 0s 12ms/step - loss: 5.0802 - mse: 64.6369 - mae: 5.0802\n",
            "Epoch 13/15\n",
            "17/17 [==============================] - 0s 15ms/step - loss: 4.6838 - mse: 54.7716 - mae: 4.6838\n",
            "Epoch 14/15\n",
            "17/17 [==============================] - 0s 13ms/step - loss: 4.2808 - mse: 46.7578 - mae: 4.2808\n",
            "Epoch 15/15\n",
            "17/17 [==============================] - 0s 13ms/step - loss: 3.8589 - mse: 39.4736 - mae: 3.8589\n"
          ]
        },
        {
          "output_type": "execute_result",
          "data": {
            "text/plain": [
              "<keras.callbacks.History at 0x7fef1de58610>"
            ]
          },
          "metadata": {},
          "execution_count": 16
        }
      ],
      "source": [
        "# - Instantiate an Adam optimizer with learning rate of 1e-5, and save it as \"optimizer\"\n",
        "# - Recompile the model using Adam and the same loss and metrics as previously\n",
        "# - Call .fit() to train you model, using a batch size of 1000. You choose the number of epochs.\n",
        "# - Note that we are now using a larger learning rate, so convergence\n",
        "#   should occur more quickly.\n",
        "\n",
        "# Before starting, we'll reset the model parameters back to their original,\n",
        "# random state, so we aren't trying to train an already trained model.\n",
        "model.set_weights(initial_weights)\n",
        "\n",
        "# YOUR CODE HERE\n",
        "optimizer = keras.optimizers.Adam(learning_rate=1e-5)\n",
        "\n",
        "model.compile(optimizer=optimizer, loss = \"mae\", metrics=[\"mse\",\"mae\"])\n",
        "model.fit(x_train,y_train,batch_size=1000, epochs = 15)\n",
        "#raise NotImplementedError()"
      ]
    },
    {
      "cell_type": "code",
      "execution_count": 17,
      "metadata": {
        "id": "p1qfXNGA73RG"
      },
      "outputs": [],
      "source": [
        "assert isinstance(model.optimizer, keras.optimizers.Adam)\n",
        "assert model.loss in [\"mae\", \"mean_absolute_error\"]"
      ]
    },
    {
      "cell_type": "code",
      "execution_count": 18,
      "metadata": {
        "colab": {
          "base_uri": "https://localhost:8080/",
          "height": 533
        },
        "id": "W_t7W2xD73RG",
        "outputId": "59c11eab-bdab-487a-e4d9-93dc8d2a446f"
      },
      "outputs": [
        {
          "output_type": "execute_result",
          "data": {
            "image/png": "[encoded data removed]",
            "text/plain": [
              "<IPython.core.display.Image object>"
            ]
          },
          "metadata": {},
          "execution_count": 18
        }
      ],
      "source": [
        "# You can optionally visualize the model here, with some added package installs.\n",
        "\n",
        "tf.keras.utils.plot_model(model, show_shapes=True, show_layer_names=True)"
      ]
    },
    {
      "cell_type": "code",
      "execution_count": 19,
      "metadata": {
        "colab": {
          "base_uri": "https://localhost:8080/",
          "height": 317
        },
        "id": "TIDYFHATiKod",
        "outputId": "1572a5b2-bd32-473e-f3b2-2248005a2e21"
      },
      "outputs": [
        {
          "output_type": "stream",
          "name": "stdout",
          "text": [
            "Training loss on the final epoch was: 7.1651\n"
          ]
        },
        {
          "output_type": "display_data",
          "data": {
            "text/plain": [
              "<Figure size 864x288 with 2 Axes>"
            ],
            "image/png": "[encoded data removed]"
          },
          "metadata": {}
        }
      ],
      "source": [
        "# Let's plot the training loss and metric scores again\n",
        "\n",
        "plt.figure(figsize=(12, 4))\n",
        "plt.subplot(1, 2, 1)\n",
        "plt.plot(np.arange(1, n_epochs+1), history.history['loss'])\n",
        "plt.title('Training set loss')\n",
        "plt.xlabel('Epoch')\n",
        "plt.ylabel('Loss')\n",
        "\n",
        "plt.subplot(1, 2, 2)\n",
        "plt.semilogy(np.arange(1, n_epochs+1), history.history['mae'], label='mae')\n",
        "plt.semilogy(np.arange(1, n_epochs+1), history.history['mse'], label='mse')\n",
        "plt.legend()\n",
        "plt.title('Training set metric scores')\n",
        "plt.xlabel('Epoch')\n",
        "plt.ylabel('Error')\n",
        "\n",
        "print(f\"Training loss on the final epoch was: {history.history['loss'][-1]:0.4f}\")"
      ]
    },
    {
      "cell_type": "code",
      "execution_count": 20,
      "metadata": {
        "colab": {
          "base_uri": "https://localhost:8080/"
        },
        "id": "R3zBxrMk73RG",
        "outputId": "86600daa-4f7a-46eb-e0d4-0906ad070b19"
      },
      "outputs": [
        {
          "output_type": "stream",
          "name": "stdout",
          "text": [
            "129/129 [==============================] - 0s 2ms/step - loss: 3.5330 - mse: 31.0915 - mae: 3.5330\n"
          ]
        },
        {
          "output_type": "execute_result",
          "data": {
            "text/plain": [
              "[3.5329792499542236, 31.091524124145508, 3.5329792499542236]"
            ]
          },
          "metadata": {},
          "execution_count": 20
        }
      ],
      "source": [
        "model.evaluate(x_test, y_test)"
      ]
    },
    {
      "cell_type": "markdown",
      "metadata": {
        "id": "3k88_NmP73RH"
      },
      "source": [
        "Now recreate the model, again named `model`, with dropout layers. Add two dropout layers, using [`Dropout`](https://www.tensorflow.org/api_docs/python/tf/keras/layers/Dropout), one after the first layer of neurons and one after the second layer of neurons.\n",
        "Create a new list of layers, and name it `layers`, rather than reusing your old list (so that the model parameters will be randomly initialized again). Then construct the model as before.\n",
        "Select a low value of dropout (say, <0.1) that results in a good score."
      ]
    },
    {
      "cell_type": "code",
      "execution_count": 21,
      "metadata": {
        "colab": {
          "base_uri": "https://localhost:8080/"
        },
        "id": "HUy6UJp273RH",
        "outputId": "cda2f7ad-d543-4293-b097-92077a58e2e7"
      },
      "outputs": [
        {
          "output_type": "stream",
          "name": "stdout",
          "text": [
            "Model: \"sequential_1\"\n",
            "_________________________________________________________________\n",
            " Layer (type)                Output Shape              Param #   \n",
            "=================================================================\n",
            " layer1 (Dense)              (16512, 100)              900       \n",
            "                                                                 \n",
            " dropout (Dropout)           (16512, 100)              0         \n",
            "                                                                 \n",
            " layer2 (Dense)              (16512, 100)              10100     \n",
            "                                                                 \n",
            " dropout_1 (Dropout)         (16512, 100)              0         \n",
            "                                                                 \n",
            " layer3 (Dense)              (16512, 100)              10100     \n",
            "                                                                 \n",
            " outputLayer (Dense)         (16512, 1)                101       \n",
            "                                                                 \n",
            "=================================================================\n",
            "Total params: 21,201\n",
            "Trainable params: 21,201\n",
            "Non-trainable params: 0\n",
            "_________________________________________________________________\n"
          ]
        }
      ],
      "source": [
        "# Create your new model, with dropout layers.\n",
        "\n",
        "# YOUR CODE HERE\n",
        "layer1 = keras.layers.Dense(100, activation=\"relu\", name=\"layer1\")\n",
        "dropoutLayer = keras.layers.Dropout(.01)\n",
        "dropoutLayer2 = keras.layers.Dropout(.01)\n",
        "\n",
        "layer2 = keras.layers.Dense(100, activation=\"relu\", name=\"layer2\")\n",
        "layer3 = keras.layers.Dense(100, name=\"layer3\")\n",
        "outputLayer = keras.layers.Dense(1, name=\"outputLayer\")\n",
        "\n",
        "layers = [layer1,dropoutLayer,layer2,dropoutLayer2,layer3,outputLayer]\n",
        "\n",
        "model = keras.Sequential(layers)\n",
        "y = model(x_train.values)\n",
        "model.summary()\n",
        "#raise NotImplementedError()\n"
      ]
    },
    {
      "cell_type": "code",
      "execution_count": 22,
      "metadata": {
        "id": "7LeG72RM73RO",
        "colab": {
          "base_uri": "https://localhost:8080/"
        },
        "outputId": "15f4698b-1984-4787-837c-627773dd2b1a"
      },
      "outputs": [
        {
          "output_type": "stream",
          "name": "stdout",
          "text": [
            "Model: \"sequential_1\"\n",
            "_________________________________________________________________\n",
            " Layer (type)                Output Shape              Param #   \n",
            "=================================================================\n",
            " layer1 (Dense)              (16512, 100)              900       \n",
            "                                                                 \n",
            " dropout (Dropout)           (16512, 100)              0         \n",
            "                                                                 \n",
            " layer2 (Dense)              (16512, 100)              10100     \n",
            "                                                                 \n",
            " dropout_1 (Dropout)         (16512, 100)              0         \n",
            "                                                                 \n",
            " layer3 (Dense)              (16512, 100)              10100     \n",
            "                                                                 \n",
            " outputLayer (Dense)         (16512, 1)                101       \n",
            "                                                                 \n",
            "=================================================================\n",
            "Total params: 21,201\n",
            "Trainable params: 21,201\n",
            "Non-trainable params: 0\n",
            "_________________________________________________________________\n"
          ]
        }
      ],
      "source": [
        "model.summary()"
      ]
    },
    {
      "cell_type": "code",
      "execution_count": 23,
      "metadata": {
        "id": "MtrNxcUo73RO"
      },
      "outputs": [],
      "source": [
        "assert len(layers) == 6\n",
        "assert isinstance(layers[1], Dropout)\n",
        "assert isinstance(layers[3], Dropout)\n",
        "for i,layer in enumerate(layers):\n",
        "    if i not in [1,3]:\n",
        "        assert isinstance(layers[i], keras.layers.Dense) \n",
        "        assert layer.weights[1].shape == [100, 0, 100, 0, 100, 1][i]"
      ]
    },
    {
      "cell_type": "code",
      "execution_count": 24,
      "metadata": {
        "id": "0LVaKsFK73RO",
        "colab": {
          "base_uri": "https://localhost:8080/"
        },
        "outputId": "4007a1e5-a3a7-4c44-83b4-b7daabdb5d5d"
      },
      "outputs": [
        {
          "output_type": "stream",
          "name": "stdout",
          "text": [
            "Epoch 1/50\n",
            "17/17 [==============================] - 1s 11ms/step - loss: 64.4113 - mae: 64.4113 - mse: 7357.6553\n",
            "Epoch 2/50\n",
            "17/17 [==============================] - 0s 11ms/step - loss: 43.6982 - mae: 43.6982 - mse: 3642.8772\n",
            "Epoch 3/50\n",
            "17/17 [==============================] - 0s 10ms/step - loss: 25.9017 - mae: 25.9017 - mse: 1362.0426\n",
            "Epoch 4/50\n",
            "17/17 [==============================] - 0s 10ms/step - loss: 14.1925 - mae: 14.1925 - mse: 569.4005\n",
            "Epoch 5/50\n",
            "17/17 [==============================] - 0s 10ms/step - loss: 12.0998 - mae: 12.0998 - mse: 549.0740\n",
            "Epoch 6/50\n",
            "17/17 [==============================] - 0s 10ms/step - loss: 11.4988 - mae: 11.4988 - mse: 455.2096\n",
            "Epoch 7/50\n",
            "17/17 [==============================] - 0s 11ms/step - loss: 11.3285 - mae: 11.3285 - mse: 485.1753\n",
            "Epoch 8/50\n",
            "17/17 [==============================] - 0s 10ms/step - loss: 10.9850 - mae: 10.9850 - mse: 444.5149\n",
            "Epoch 9/50\n",
            "17/17 [==============================] - 0s 9ms/step - loss: 10.9084 - mae: 10.9084 - mse: 413.7191\n",
            "Epoch 10/50\n",
            "17/17 [==============================] - 0s 9ms/step - loss: 10.7611 - mae: 10.7611 - mse: 417.9665\n",
            "Epoch 11/50\n",
            "17/17 [==============================] - 0s 10ms/step - loss: 10.7236 - mae: 10.7236 - mse: 470.1268\n",
            "Epoch 12/50\n",
            "17/17 [==============================] - 0s 10ms/step - loss: 10.5732 - mae: 10.5732 - mse: 466.6340\n",
            "Epoch 13/50\n",
            "17/17 [==============================] - 0s 11ms/step - loss: 10.4072 - mae: 10.4072 - mse: 430.7526\n",
            "Epoch 14/50\n",
            "17/17 [==============================] - 0s 11ms/step - loss: 10.4796 - mae: 10.4796 - mse: 449.9518\n",
            "Epoch 15/50\n",
            "17/17 [==============================] - 0s 11ms/step - loss: 10.4979 - mae: 10.4979 - mse: 481.1776\n",
            "Epoch 16/50\n",
            "17/17 [==============================] - 0s 10ms/step - loss: 10.3930 - mae: 10.3930 - mse: 428.8650\n",
            "Epoch 17/50\n",
            "17/17 [==============================] - 0s 11ms/step - loss: 10.0885 - mae: 10.0885 - mse: 393.4115\n",
            "Epoch 18/50\n",
            "17/17 [==============================] - 0s 11ms/step - loss: 10.2286 - mae: 10.2286 - mse: 401.8246\n",
            "Epoch 19/50\n",
            "17/17 [==============================] - 0s 9ms/step - loss: 10.3418 - mae: 10.3418 - mse: 447.8791\n",
            "Epoch 20/50\n",
            "17/17 [==============================] - 0s 9ms/step - loss: 10.2652 - mae: 10.2652 - mse: 437.0273\n",
            "Epoch 21/50\n",
            "17/17 [==============================] - 0s 10ms/step - loss: 10.0983 - mae: 10.0983 - mse: 420.6873\n",
            "Epoch 22/50\n",
            "17/17 [==============================] - 0s 10ms/step - loss: 10.2532 - mae: 10.2532 - mse: 457.7095\n",
            "Epoch 23/50\n",
            "17/17 [==============================] - 0s 10ms/step - loss: 10.1904 - mae: 10.1904 - mse: 410.1278\n",
            "Epoch 24/50\n",
            "17/17 [==============================] - 0s 11ms/step - loss: 9.9986 - mae: 9.9986 - mse: 396.2907\n",
            "Epoch 25/50\n",
            "17/17 [==============================] - 0s 10ms/step - loss: 9.7839 - mae: 9.7839 - mse: 404.8147\n",
            "Epoch 26/50\n",
            "17/17 [==============================] - 0s 10ms/step - loss: 9.8478 - mae: 9.8478 - mse: 363.1004\n",
            "Epoch 27/50\n",
            "17/17 [==============================] - 0s 10ms/step - loss: 9.7788 - mae: 9.7788 - mse: 394.3437\n",
            "Epoch 28/50\n",
            "17/17 [==============================] - 0s 10ms/step - loss: 9.5498 - mae: 9.5498 - mse: 361.8335\n",
            "Epoch 29/50\n",
            "17/17 [==============================] - 0s 9ms/step - loss: 9.3129 - mae: 9.3129 - mse: 358.2250\n",
            "Epoch 30/50\n",
            "17/17 [==============================] - 0s 12ms/step - loss: 9.7091 - mae: 9.7091 - mse: 412.5382\n",
            "Epoch 31/50\n",
            "17/17 [==============================] - 0s 10ms/step - loss: 9.5378 - mae: 9.5378 - mse: 414.2990\n",
            "Epoch 32/50\n",
            "17/17 [==============================] - 0s 11ms/step - loss: 9.5501 - mae: 9.5501 - mse: 379.7090\n",
            "Epoch 33/50\n",
            "17/17 [==============================] - 0s 10ms/step - loss: 9.4387 - mae: 9.4387 - mse: 366.7290\n",
            "Epoch 34/50\n",
            "17/17 [==============================] - 0s 9ms/step - loss: 9.4031 - mae: 9.4031 - mse: 374.3217\n",
            "Epoch 35/50\n",
            "17/17 [==============================] - 0s 11ms/step - loss: 9.2444 - mae: 9.2444 - mse: 318.3096\n",
            "Epoch 36/50\n",
            "17/17 [==============================] - 0s 10ms/step - loss: 9.3592 - mae: 9.3592 - mse: 350.8967\n",
            "Epoch 37/50\n",
            "17/17 [==============================] - 0s 11ms/step - loss: 9.1443 - mae: 9.1443 - mse: 352.7110\n",
            "Epoch 38/50\n",
            "17/17 [==============================] - 0s 10ms/step - loss: 9.0449 - mae: 9.0449 - mse: 340.3286\n",
            "Epoch 39/50\n",
            "17/17 [==============================] - 0s 10ms/step - loss: 9.1575 - mae: 9.1575 - mse: 353.6146\n",
            "Epoch 40/50\n",
            "17/17 [==============================] - 0s 10ms/step - loss: 9.2212 - mae: 9.2212 - mse: 363.1903\n",
            "Epoch 41/50\n",
            "17/17 [==============================] - 0s 10ms/step - loss: 9.1089 - mae: 9.1089 - mse: 351.8302\n",
            "Epoch 42/50\n",
            "17/17 [==============================] - 0s 10ms/step - loss: 8.9265 - mae: 8.9265 - mse: 336.6713\n",
            "Epoch 43/50\n",
            "17/17 [==============================] - 0s 10ms/step - loss: 9.0710 - mae: 9.0710 - mse: 356.6558\n",
            "Epoch 44/50\n",
            "17/17 [==============================] - 0s 10ms/step - loss: 9.0500 - mae: 9.0500 - mse: 338.8311\n",
            "Epoch 45/50\n",
            "17/17 [==============================] - 0s 10ms/step - loss: 8.7819 - mae: 8.7819 - mse: 376.7663\n",
            "Epoch 46/50\n",
            "17/17 [==============================] - 0s 10ms/step - loss: 8.7503 - mae: 8.7503 - mse: 310.5220\n",
            "Epoch 47/50\n",
            "17/17 [==============================] - 0s 11ms/step - loss: 8.5451 - mae: 8.5451 - mse: 288.6364\n",
            "Epoch 48/50\n",
            "17/17 [==============================] - 0s 9ms/step - loss: 8.6092 - mae: 8.6092 - mse: 302.1441\n",
            "Epoch 49/50\n",
            "17/17 [==============================] - 0s 10ms/step - loss: 8.9515 - mae: 8.9515 - mse: 361.3457\n",
            "Epoch 50/50\n",
            "17/17 [==============================] - 0s 10ms/step - loss: 8.6157 - mae: 8.6157 - mse: 314.3046\n"
          ]
        }
      ],
      "source": [
        "# Because dropout reduces the convergence rate (but may ultimately coverge to\n",
        "# a lower loss), it sometimes requires training for more epochs than otherwise.\n",
        "\n",
        "optimizer = Adam(learning_rate=1e-5)\n",
        "model.compile(optimizer=optimizer, loss='mae', metrics=['mae', \"mse\"])\n",
        "n_epochs = 50\n",
        "history = model.fit(x_train, y_train, batch_size=1000, epochs=n_epochs, verbose=1)"
      ]
    },
    {
      "cell_type": "code",
      "execution_count": 25,
      "metadata": {
        "id": "oj4IvypDiKof",
        "colab": {
          "base_uri": "https://localhost:8080/",
          "height": 317
        },
        "outputId": "6ee74856-725b-458c-9c7e-b912fba3ab47"
      },
      "outputs": [
        {
          "output_type": "stream",
          "name": "stdout",
          "text": [
            "Training loss on the final epoch was: 8.6157\n"
          ]
        },
        {
          "output_type": "display_data",
          "data": {
            "text/plain": [
              "<Figure size 864x288 with 2 Axes>"
            ],
            "image/png": "[encoded data removed]"
          },
          "metadata": {}
        }
      ],
      "source": [
        "# Let's plot the training loss and metric scores again\n",
        "\n",
        "plt.figure(figsize=(12, 4))\n",
        "plt.subplot(1, 2, 1)\n",
        "plt.plot(np.arange(1, n_epochs+1), history.history['loss'])\n",
        "plt.title('Training set loss')\n",
        "plt.xlabel('Epoch')\n",
        "plt.ylabel('Loss')\n",
        "\n",
        "plt.subplot(1, 2, 2)\n",
        "plt.semilogy(np.arange(1, n_epochs+1), history.history['mae'], label='mae')\n",
        "plt.semilogy(np.arange(1, n_epochs+1), history.history['mse'], label='mse')\n",
        "plt.legend()\n",
        "plt.title('Training set metric scores')\n",
        "plt.xlabel('Epoch')\n",
        "plt.ylabel('Error')\n",
        "\n",
        "print(f\"Training loss on the final epoch was: {history.history['loss'][-1]:0.4f}\")"
      ]
    },
    {
      "cell_type": "code",
      "execution_count": 26,
      "metadata": {
        "id": "snPbXgZUiKof",
        "colab": {
          "base_uri": "https://localhost:8080/"
        },
        "outputId": "0873666f-a3f7-48af-dc59-ba8f1f3c683d"
      },
      "outputs": [
        {
          "output_type": "stream",
          "name": "stdout",
          "text": [
            "129/129 [==============================] - 0s 2ms/step - loss: 1.1548 - mae: 1.1548 - mse: 3.2219\n"
          ]
        },
        {
          "output_type": "execute_result",
          "data": {
            "text/plain": [
              "[1.1548172235488892, 1.1548172235488892, 3.2219111919403076]"
            ]
          },
          "metadata": {},
          "execution_count": 26
        }
      ],
      "source": [
        "model.evaluate(x_test, y_test)"
      ]
    },
    {
      "cell_type": "markdown",
      "metadata": {
        "id": "LUex7SPp73RO"
      },
      "source": [
        "Select a dropout rate that gets an okay score--one that is sufficient to pass the following `assert` test.\n",
        "\n",
        "Note that in this case, dropout did not likely result in better loss or metric scores on the test set versus the models without dropout. Dropout does not always help, but it sometimes does, especially if you have a very large model but a somewhat undersized dataset. In that case, dropout serves as a regularization technique, like L1- or L2-norm weight penalty terms in linear regression."
      ]
    },
    {
      "cell_type": "code",
      "execution_count": 27,
      "metadata": {
        "id": "QD8pzPFe73RO",
        "colab": {
          "base_uri": "https://localhost:8080/"
        },
        "outputId": "0ac9e896-fcf7-45b1-b3a9-9a92a6b13e4e"
      },
      "outputs": [
        {
          "output_type": "stream",
          "name": "stdout",
          "text": [
            "129/129 [==============================] - 0s 2ms/step - loss: 1.1548 - mae: 1.1548 - mse: 3.2219\n"
          ]
        }
      ],
      "source": [
        "assert model.evaluate(x_test, y_test)[0] < 3"
      ]
    },
    {
      "cell_type": "markdown",
      "metadata": {
        "id": "IPWJ3CQq73RP"
      },
      "source": [
        "## Feedback"
      ]
    },
    {
      "cell_type": "code",
      "execution_count": 28,
      "metadata": {
        "id": "8ggmw34M73RP"
      },
      "outputs": [],
      "source": [
        "def feedback():\n",
        "    \"\"\"Provide feedback on the contents of this exercise\n",
        "    \n",
        "    Returns:\n",
        "        string\n",
        "    \"\"\"\n",
        "    # YOUR CODE HERE\n",
        "    return \"Fun!\"\n",
        "    #raise NotImplementedError()"
      ]
    },
    {
      "cell_type": "code",
      "execution_count": 28,
      "metadata": {
        "id": "l3-dgeRp73RP"
      },
      "outputs": [],
      "source": []
    }
  ],
  "metadata": {
    "colab": {
      "collapsed_sections": [],
      "provenance": [],
      "include_colab_link": true
    },
    "kernelspec": {
      "display_name": "Python 3",
      "language": "python",
      "name": "python3"
    },
    "language_info": {
      "codemirror_mode": {
        "name": "ipython",
        "version": 3
      },
      "file_extension": ".py",
      "mimetype": "text/x-python",
      "name": "python",
      "nbconvert_exporter": "python",
      "pygments_lexer": "ipython3",
      "version": "3.7.4"
    }
  },
  "nbformat": 4,
  "nbformat_minor": 0
}