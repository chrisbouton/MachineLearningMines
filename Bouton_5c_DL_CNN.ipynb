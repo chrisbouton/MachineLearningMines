{
  "cells": [
    {
      "cell_type": "markdown",
      "metadata": {
        "id": "view-in-github",
        "colab_type": "text"
      },
      "source": [
        "<a href=\"https://colab.research.google.com/github/chrisbouton/MachineLearningMines/blob/main/Bouton_5c_DL_CNN.ipynb\" target=\"_parent\"><img src=\"https://colab.research.google.com/assets/colab-badge.svg\" alt=\"Open In Colab\"/></a>"
      ]
    },
    {
      "cell_type": "markdown",
      "metadata": {
        "id": "RvK9260_ZcJv"
      },
      "source": [
        "## CSCI 470 Activities and Case Studies\n",
        "\n",
        "1. For all activities, you are allowed to collaborate with a partner. \n",
        "1. For case studies, you should work individually and are **not** allowed to collaborate.\n",
        "\n",
        "By filling out this notebook and submitting it, you acknowledge that you are aware of the above policies and are agreeing to comply with them."
      ]
    },
    {
      "cell_type": "markdown",
      "metadata": {
        "id": "cmwxLykLZcJy"
      },
      "source": [
        "Some considerations with regard to how these notebooks will be graded:\n",
        "\n",
        "1. Cells in which \"# YOUR CODE HERE\" is found are the cells where your graded code should be written.\n",
        "2. In order to test out or debug your code you may also create notebook cells or edit existing notebook cells other than \"# YOUR CODE HERE\". We actually highly recommend you do so to gain a better understanding of what is happening. However, during grading, **these changes are ignored**. \n",
        "2. You must ensure that all your code for the particular task is available in the cells that say \"# YOUR CODE HERE\"\n",
        "3. Every cell that says \"# YOUR CODE HERE\" is followed by a \"raise NotImplementedError\". You need to remove that line. During grading, if an error occurs then you will not receive points for your work in that section.\n",
        "4. If your code passes the \"assert\" statements, then no output will result. If your code fails the \"assert\" statements, you will get an \"AssertionError\". Getting an assertion error means you will not receive points for that particular task.\n",
        "5. If you edit the \"assert\" statements to make your code pass, they will still fail when they are graded since the \"assert\" statements will revert to the original. Make sure you don't edit the assert statements.\n",
        "6. We may sometimes have \"hidden\" tests for grading. This means that passing the visible \"assert\" statements is not sufficient. The \"assert\" statements are there as a guide but you need to make sure you understand what you're required to do and ensure that you are doing it correctly. Passing the visible tests is necessary but not sufficient to get the grade for that cell.\n",
        "7. When you are asked to define a function, make sure you **don't** use any variables outside of the parameters passed to the function. You can think of the parameters being passed to the function as a hint. Make sure you're using all of those variables.\n",
        "8. Finally, **make sure you run \"Kernel > Restart and Run All\"** and pass all the asserts before submitting. If you don't restart the kernel, there may be some code that you ran and deleted that is still being used and that was why your asserts were passing."
      ]
    },
    {
      "cell_type": "markdown",
      "metadata": {
        "deletable": false,
        "editable": false,
        "nbgrader": {
          "cell_type": "markdown",
          "checksum": "47ccadb4be48caa31405858fec2162fb",
          "grade": false,
          "grade_id": "cell-8624ebbfca3f9d05",
          "locked": true,
          "schema_version": 3,
          "solution": false
        },
        "id": "KlXCFEKjZcJ0"
      },
      "source": [
        "# Deep Learning - Convolutional Neural Networks\n",
        "\n",
        "In this exercise we'll compare a simple fully-connected (dense) feedforward neural network with a convolutional neural network at predicting the [MNIST handwritten digits, drawn in a 28x28 pixel image](http://yann.lecun.com/exdb/mnist/). \n",
        "\n",
        "Note that each sample we're using is a grayscale image - that means that each sample (image) is a matrix of values whereas previously our samples had been vectors. You will need to modify the data to work with this accordingly. For example, keras' [Dense](https://www.tensorflow.org/api_docs/python/tf/keras/layers/Dense) layers expect their inputs to be vectors so whenever you're using a [Dense](https://www.tensorflow.org/api_docs/python/tf/keras/layers/Dense) layer, make sure you convert its inputs to a vector, if needed. In keras, you can convert a matrix (or tensor) to a vector using the [Flatten](https://www.tensorflow.org/api_docs/python/tf/keras/layers/Flatten) layer. For more complex changes where you want to cusomize the exact shape of the values, you can use the [Reshape](https://www.tensorflow.org/api_docs/python/tf/keras/layers/Reshape) layer."
      ]
    },
    {
      "cell_type": "code",
      "execution_count": 1,
      "metadata": {
        "nbgrader": {
          "grade": false,
          "grade_id": "cell-69b5ab127f73f4ab",
          "locked": false,
          "schema_version": 3,
          "solution": false
        },
        "id": "GO7fwgR6ZcJ0"
      },
      "outputs": [],
      "source": [
        "import tensorflow as tf\n",
        "from tensorflow.keras.datasets import cifar10, mnist\n",
        "from tensorflow.keras import Sequential\n",
        "from tensorflow.keras.layers import Input, Dense, Dropout, Flatten, Conv2D, MaxPool2D\n",
        "import numpy as np\n",
        "import scipy\n",
        "import matplotlib\n",
        "import matplotlib.pyplot as plt\n",
        "\n",
        "np.random.seed(0)\n",
        "tf.random.set_seed(0)"
      ]
    },
    {
      "cell_type": "code",
      "execution_count": 2,
      "metadata": {
        "nbgrader": {
          "grade": false,
          "grade_id": "cell-2f12505f86743d95",
          "locked": false,
          "schema_version": 3,
          "solution": false
        },
        "id": "zwxZLLxjZcJ1"
      },
      "outputs": [],
      "source": [
        "(x_train, y_train), (x_test, y_test) = mnist.load_data()"
      ]
    },
    {
      "cell_type": "code",
      "execution_count": 3,
      "metadata": {
        "nbgrader": {
          "grade": false,
          "grade_id": "cell-43ee2cdae7268658",
          "locked": false,
          "schema_version": 3,
          "solution": false
        },
        "colab": {
          "base_uri": "https://localhost:8080/"
        },
        "id": "2YnTE2MbZcJ2",
        "outputId": "b8ccb5b5-cb6e-4534-9ca5-4a1bdf8ae871"
      },
      "outputs": [
        {
          "output_type": "stream",
          "name": "stdout",
          "text": [
            "The MNIST data was loaded with 60000 training samples and 10000 testing samples.\n",
            "Each sample is a 28 x 28 pixel image.\n"
          ]
        }
      ],
      "source": [
        "s1 = x_train.shape\n",
        "s2 = x_test.shape\n",
        "print(f\"The MNIST data was loaded with {s1[0]} training samples and {s2[0]} testing samples.\")\n",
        "print(f\"Each sample is a {s1[1]} x {s1[2]} pixel image.\")"
      ]
    },
    {
      "cell_type": "code",
      "execution_count": 4,
      "metadata": {
        "nbgrader": {
          "grade": false,
          "grade_id": "cell-5c9c291b795e1704",
          "locked": false,
          "schema_version": 3,
          "solution": false
        },
        "colab": {
          "base_uri": "https://localhost:8080/"
        },
        "id": "MnG5DQRxZcJ2",
        "outputId": "b2f58239-6086-4e91-c9ad-8cbb2bf7fc1c"
      },
      "outputs": [
        {
          "output_type": "execute_result",
          "data": {
            "text/plain": [
              "array([[  0,   0,   0,   0,   0,   0,   0,   0,   0,   0,   0,   0,   0,\n",
              "          0,   0,   0,   0,   0,   0,   0,   0,   0,   0,   0,   0,   0,\n",
              "          0,   0],\n",
              "       [  0,   0,   0,   0,   0,   0,   0,   0,   0,   0,   0,   0,   0,\n",
              "          0,   0,   0,   0,   0,   0,   0,   0,   0,   0,   0,   0,   0,\n",
              "          0,   0],\n",
              "       [  0,   0,   0,   0,   0,   0,   0,   0,   0,   0,   0,   0,   0,\n",
              "          0,   0,   0,   0,   0,   0,   0,   0,   0,   0,   0,   0,   0,\n",
              "          0,   0],\n",
              "       [  0,   0,   0,   0,   0,   0,   0,   0,   0,   0,   0,   0,   0,\n",
              "          0,   0,   0,   0,   0,   0,   0,   0,   0,   0,   0,   0,   0,\n",
              "          0,   0],\n",
              "       [  0,   0,   0,   0,   0,   0,   0,   0,   0,   0,   0,   0,   0,\n",
              "          0,   0,   0,   0,   0,   0,   0,   0,   0,   0,   0,   0,   0,\n",
              "          0,   0],\n",
              "       [  0,   0,   0,   0,   0,   0,   0,   0,   0,   0,   0,   0,   3,\n",
              "         18,  18,  18, 126, 136, 175,  26, 166, 255, 247, 127,   0,   0,\n",
              "          0,   0],\n",
              "       [  0,   0,   0,   0,   0,   0,   0,   0,  30,  36,  94, 154, 170,\n",
              "        253, 253, 253, 253, 253, 225, 172, 253, 242, 195,  64,   0,   0,\n",
              "          0,   0],\n",
              "       [  0,   0,   0,   0,   0,   0,   0,  49, 238, 253, 253, 253, 253,\n",
              "        253, 253, 253, 253, 251,  93,  82,  82,  56,  39,   0,   0,   0,\n",
              "          0,   0],\n",
              "       [  0,   0,   0,   0,   0,   0,   0,  18, 219, 253, 253, 253, 253,\n",
              "        253, 198, 182, 247, 241,   0,   0,   0,   0,   0,   0,   0,   0,\n",
              "          0,   0],\n",
              "       [  0,   0,   0,   0,   0,   0,   0,   0,  80, 156, 107, 253, 253,\n",
              "        205,  11,   0,  43, 154,   0,   0,   0,   0,   0,   0,   0,   0,\n",
              "          0,   0],\n",
              "       [  0,   0,   0,   0,   0,   0,   0,   0,   0,  14,   1, 154, 253,\n",
              "         90,   0,   0,   0,   0,   0,   0,   0,   0,   0,   0,   0,   0,\n",
              "          0,   0],\n",
              "       [  0,   0,   0,   0,   0,   0,   0,   0,   0,   0,   0, 139, 253,\n",
              "        190,   2,   0,   0,   0,   0,   0,   0,   0,   0,   0,   0,   0,\n",
              "          0,   0],\n",
              "       [  0,   0,   0,   0,   0,   0,   0,   0,   0,   0,   0,  11, 190,\n",
              "        253,  70,   0,   0,   0,   0,   0,   0,   0,   0,   0,   0,   0,\n",
              "          0,   0],\n",
              "       [  0,   0,   0,   0,   0,   0,   0,   0,   0,   0,   0,   0,  35,\n",
              "        241, 225, 160, 108,   1,   0,   0,   0,   0,   0,   0,   0,   0,\n",
              "          0,   0],\n",
              "       [  0,   0,   0,   0,   0,   0,   0,   0,   0,   0,   0,   0,   0,\n",
              "         81, 240, 253, 253, 119,  25,   0,   0,   0,   0,   0,   0,   0,\n",
              "          0,   0],\n",
              "       [  0,   0,   0,   0,   0,   0,   0,   0,   0,   0,   0,   0,   0,\n",
              "          0,  45, 186, 253, 253, 150,  27,   0,   0,   0,   0,   0,   0,\n",
              "          0,   0],\n",
              "       [  0,   0,   0,   0,   0,   0,   0,   0,   0,   0,   0,   0,   0,\n",
              "          0,   0,  16,  93, 252, 253, 187,   0,   0,   0,   0,   0,   0,\n",
              "          0,   0],\n",
              "       [  0,   0,   0,   0,   0,   0,   0,   0,   0,   0,   0,   0,   0,\n",
              "          0,   0,   0,   0, 249, 253, 249,  64,   0,   0,   0,   0,   0,\n",
              "          0,   0],\n",
              "       [  0,   0,   0,   0,   0,   0,   0,   0,   0,   0,   0,   0,   0,\n",
              "          0,  46, 130, 183, 253, 253, 207,   2,   0,   0,   0,   0,   0,\n",
              "          0,   0],\n",
              "       [  0,   0,   0,   0,   0,   0,   0,   0,   0,   0,   0,   0,  39,\n",
              "        148, 229, 253, 253, 253, 250, 182,   0,   0,   0,   0,   0,   0,\n",
              "          0,   0],\n",
              "       [  0,   0,   0,   0,   0,   0,   0,   0,   0,   0,  24, 114, 221,\n",
              "        253, 253, 253, 253, 201,  78,   0,   0,   0,   0,   0,   0,   0,\n",
              "          0,   0],\n",
              "       [  0,   0,   0,   0,   0,   0,   0,   0,  23,  66, 213, 253, 253,\n",
              "        253, 253, 198,  81,   2,   0,   0,   0,   0,   0,   0,   0,   0,\n",
              "          0,   0],\n",
              "       [  0,   0,   0,   0,   0,   0,  18, 171, 219, 253, 253, 253, 253,\n",
              "        195,  80,   9,   0,   0,   0,   0,   0,   0,   0,   0,   0,   0,\n",
              "          0,   0],\n",
              "       [  0,   0,   0,   0,  55, 172, 226, 253, 253, 253, 253, 244, 133,\n",
              "         11,   0,   0,   0,   0,   0,   0,   0,   0,   0,   0,   0,   0,\n",
              "          0,   0],\n",
              "       [  0,   0,   0,   0, 136, 253, 253, 253, 212, 135, 132,  16,   0,\n",
              "          0,   0,   0,   0,   0,   0,   0,   0,   0,   0,   0,   0,   0,\n",
              "          0,   0],\n",
              "       [  0,   0,   0,   0,   0,   0,   0,   0,   0,   0,   0,   0,   0,\n",
              "          0,   0,   0,   0,   0,   0,   0,   0,   0,   0,   0,   0,   0,\n",
              "          0,   0],\n",
              "       [  0,   0,   0,   0,   0,   0,   0,   0,   0,   0,   0,   0,   0,\n",
              "          0,   0,   0,   0,   0,   0,   0,   0,   0,   0,   0,   0,   0,\n",
              "          0,   0],\n",
              "       [  0,   0,   0,   0,   0,   0,   0,   0,   0,   0,   0,   0,   0,\n",
              "          0,   0,   0,   0,   0,   0,   0,   0,   0,   0,   0,   0,   0,\n",
              "          0,   0]], dtype=uint8)"
            ]
          },
          "metadata": {},
          "execution_count": 4
        }
      ],
      "source": [
        "# Here's an example hand drawn digit's image\n",
        "example = x_train[0]\n",
        "example"
      ]
    },
    {
      "cell_type": "code",
      "execution_count": 5,
      "metadata": {
        "colab": {
          "base_uri": "https://localhost:8080/",
          "height": 265
        },
        "id": "M7k5Gtr6ZcJ2",
        "outputId": "a51e95f5-43e2-4ea8-82a2-a4765cde5f09"
      },
      "outputs": [
        {
          "output_type": "display_data",
          "data": {
            "text/plain": [
              "<Figure size 432x288 with 1 Axes>"
            ],
            "image/png": "[encoded data removed]"
          },
          "metadata": {
            "needs_background": "light"
          }
        }
      ],
      "source": [
        "# Now let's plot that matrix to better understand what's happening here...\n",
        "_ = plt.imshow(example, cmap=\"gray\")"
      ]
    },
    {
      "cell_type": "code",
      "execution_count": 6,
      "metadata": {
        "colab": {
          "base_uri": "https://localhost:8080/"
        },
        "id": "gqX9FyZ7ZcJ3",
        "outputId": "4d81032b-7dff-4764-9ba4-111592cb06c5"
      },
      "outputs": [
        {
          "output_type": "stream",
          "name": "stdout",
          "text": [
            "[0 1 2 3 4 5 6 7 8 9]\n"
          ]
        }
      ],
      "source": [
        "# In this cell, we'll print out the unique labels in the data.\n",
        "#\n",
        "# We're predicting the digit in an image and we have images of\n",
        "# all 10 ('0' to '9') digits.\n",
        "\n",
        "print(np.unique(y_test))"
      ]
    },
    {
      "cell_type": "markdown",
      "metadata": {
        "id": "74mfU45NZcJ3"
      },
      "source": [
        "### Convolutions\n",
        "\n",
        "Most engineers in computer scientists are familiar with convolutions. If you're not, or you need a refresher, try [this article on discrete convolutions](https://electricalacademia.com/signals-and-systems/example-of-discrete-time-graphical-convolution/). The article is on discrete *time* convolutions, but the process is the same for discrete *spatial* convolutions--which is what we are doing when we perform a 2D convolution on an image.\n",
        "\n",
        "To check your basic understanding of convolutions, implement the function below, which computes what the output image shape will be for a given convolutional kernel (filter) applied to a given input image. Recall that for a given dimension, the length of the output of a convolution is:\n",
        "\n",
        "`L_out = L_in - L_kernel + 1`\n",
        "\n",
        "where L_in is the length of the input (pixels), L_kernel is the length of the filter/kernel, and L_out is the length of the output (pixels)\n",
        "\n",
        "The equation above assumes that we haven't added any \"padding\" to the input image, e.g., pixels of value 0 that we use to extend/enlarge the input image. In Keras, you'll see that a user can specify padding as a scalar number of pixels to add __to each side of the image__. Thus,\n",
        "\n",
        "`L_in_padded = L_in + 2*padding`  \n",
        "`L_out = L_in_padded - L_kernel + 1`  \n",
        "`L_out = L_in + 2*padding - L_kernel + 1`  \n",
        "\n",
        "Finally, we may want to use a convolution in which the kernel doesn't \"slide\" along the input in single-pixel steps, but in multiple-pixel steps, of step size `stride`. You may want to diagram it out for yourself on a piece of paper (in a manner like that of the article linked above), but we effectively just need to divide the output length by the stride value (before adding the 1) to get strided output size. Because it may be fractional, the final answer is actually the floor of that previous result. This gives us...\n",
        "\n",
        "`L_out = floor( (L_in + 2*padding - L_kernel) / stride + 1 )`\n",
        "\n",
        "In the function below, you'll need to implement that equation separately for the horizontal and vertical dimensions of the image and kernel. Do not assume that either the image or the kernel are square. In Python, `int()` converts a number to an integer, executing a floor operation if the number is floating-point."
      ]
    },
    {
      "cell_type": "code",
      "execution_count": 7,
      "metadata": {
        "deletable": false,
        "nbgrader": {
          "cell_type": "code",
          "checksum": "181818b1f77d0f52ace8cfea1f63a385",
          "grade": false,
          "grade_id": "cell-887e94c3f19aac00",
          "locked": false,
          "schema_version": 3,
          "solution": true
        },
        "id": "Mi66M2jEZcJ4"
      },
      "outputs": [],
      "source": [
        "def calculate_conv_shape(X, K, padding=0, stride=1):\n",
        "    \"\"\"Calculate the shape of the output of a convolution \n",
        "    \n",
        "    Args:\n",
        "        X (np.array): The input matrix\n",
        "        K (np.array): The filter matrix\n",
        "        padding (int, optional): Defaults to 0. The padding dimension\n",
        "        stride (int, optional): Defaults to 1. The stride of the convolution\n",
        "    \n",
        "    Returns:\n",
        "        tuple: The shape of the convolution output, height then width\n",
        "    \"\"\"\n",
        "    print(K.shape[0])\n",
        "    # YOUR CODE HERE\n",
        "    h = int((X.shape[0]+2*padding - K.shape[0])/stride + 1)\n",
        "    w = int((X.shape[1]+2*padding - K.shape[1])/stride + 1)\n",
        "    #raise NotImplementedError()\n",
        "    print(h)\n",
        "    print(w)\n",
        "    return h,w\n"
      ]
    },
    {
      "cell_type": "code",
      "execution_count": 8,
      "metadata": {
        "nbgrader": {
          "grade": false,
          "grade_id": "cell-f77d68a4c1196592",
          "locked": false,
          "schema_version": 3,
          "solution": false
        },
        "colab": {
          "base_uri": "https://localhost:8080/"
        },
        "id": "Nlx1ZxCvZcJ4",
        "outputId": "de9a5f5f-9ae1-4fc9-a26d-38f39d29775c"
      },
      "outputs": [
        {
          "output_type": "stream",
          "name": "stdout",
          "text": [
            "3\n",
            "28\n",
            "28\n"
          ]
        },
        {
          "output_type": "execute_result",
          "data": {
            "text/plain": [
              "(28, 28)"
            ]
          },
          "metadata": {},
          "execution_count": 8
        }
      ],
      "source": [
        "# Here, we define a \"blurring\" filter/kernel, that can be applied\n",
        "# to an image to get a blurred output image.\n",
        "\n",
        "blur = np.array([\n",
        "    [0,    0.25, 0   ],\n",
        "    [0.25, 0.5,  0.25],\n",
        "    [0,    0.25, 0   ]\n",
        "])\n",
        "\n",
        "# If we pad our 28x28 example image and then convolve it\n",
        "# with the blurring kernel (with stride=1), the output\n",
        "# image should also be 28x28.\n",
        "calculate_conv_shape(example, blur, padding=1)"
      ]
    },
    {
      "cell_type": "code",
      "execution_count": 9,
      "metadata": {
        "deletable": false,
        "editable": false,
        "nbgrader": {
          "cell_type": "code",
          "checksum": "4a69c868df7984fbcf05d18782858c39",
          "grade": true,
          "grade_id": "cell-8c49e7193a849321",
          "locked": true,
          "points": 5,
          "schema_version": 3,
          "solution": false
        },
        "colab": {
          "base_uri": "https://localhost:8080/"
        },
        "id": "bhHmrGftZcJ4",
        "outputId": "edaae6b2-6214-4b0c-bd71-cf47b4b59801"
      },
      "outputs": [
        {
          "output_type": "stream",
          "name": "stdout",
          "text": [
            "3\n",
            "28\n",
            "28\n",
            "3\n",
            "13\n",
            "13\n"
          ]
        }
      ],
      "source": [
        "ans = calculate_conv_shape(example, blur, padding=1)\n",
        "assert isinstance(ans, tuple)\n",
        "assert isinstance(ans[0], int)\n",
        "assert isinstance(ans[1], int)\n",
        "assert ans == (28, 28)\n",
        "ans = calculate_conv_shape(example, blur, padding=0, stride=2)\n",
        "assert ans == (13, 13)"
      ]
    },
    {
      "cell_type": "markdown",
      "metadata": {
        "deletable": false,
        "editable": false,
        "nbgrader": {
          "cell_type": "markdown",
          "checksum": "926290a0f7c73ec67c02a53e2deb0fe3",
          "grade": false,
          "grade_id": "cell-25dbc77554a4c538",
          "locked": true,
          "schema_version": 3,
          "solution": false
        },
        "id": "XK4nKcF6ZcJ5"
      },
      "source": [
        "### Try out a convolution\n",
        "\n",
        "To apply a convolution, you can use the [scipy.ndimage.convolve](https://docs.scipy.org/doc/scipy/reference/generated/scipy.ndimage.convolve.html). `scipy` has already been imported for you above.\n",
        "\n",
        "Convert `example` to floating point numbers using `example.astype(np.float)` before you execute the convolution."
      ]
    },
    {
      "cell_type": "code",
      "execution_count": 10,
      "metadata": {
        "deletable": false,
        "nbgrader": {
          "cell_type": "code",
          "checksum": "d28950dc98905e27a1ad46219750ebec",
          "grade": false,
          "grade_id": "cell-eaf956c226dd39b7",
          "locked": false,
          "schema_version": 3,
          "solution": true
        },
        "colab": {
          "base_uri": "https://localhost:8080/",
          "height": 382
        },
        "id": "zZq_rVd5ZcJ5",
        "outputId": "6254e9ac-b180-4fa4-eec8-45ea5f6d137b"
      },
      "outputs": [
        {
          "output_type": "stream",
          "name": "stderr",
          "text": [
            "/usr/local/lib/python3.7/dist-packages/ipykernel_launcher.py:7: DeprecationWarning: `np.float` is a deprecated alias for the builtin `float`. To silence this warning, use `float` by itself. Doing this will not modify any behavior and is safe. If you specifically wanted the numpy scalar type, use `np.float64` here.\n",
            "Deprecated in NumPy 1.20; for more details and guidance: https://numpy.org/devdocs/release/1.20.0-notes.html#deprecations\n",
            "  import sys\n"
          ]
        },
        {
          "output_type": "display_data",
          "data": {
            "text/plain": [
              "<Figure size 720x360 with 4 Axes>"
            ],
            "image/png": "[encoded data removed]"
          },
          "metadata": {
            "needs_background": "light"
          }
        }
      ],
      "source": [
        "# Apply the blurring filter to the example and save the output to \"blurred_image\".\n",
        "#\n",
        "# Be sure to convert the example from unsigned int numbers to floating-point numbers\n",
        "# beforehand.\n",
        "\n",
        "# YOUR CODE HERE\n",
        "example = example.astype(np.float)\n",
        "\n",
        "blurred_image = scipy.ndimage.convolve(example, blur)\n",
        "#raise NotImplementedError()\n",
        "\n",
        "plt.figure(figsize=(10, 5))\n",
        "plt.subplot(1, 2, 1)\n",
        "plt.imshow(example, cmap=\"gray\")\n",
        "plt.colorbar()\n",
        "           \n",
        "plt.subplot(1, 2, 2)\n",
        "plt.imshow(blurred_image, cmap=\"gray\")\n",
        "_ = plt.colorbar()"
      ]
    },
    {
      "cell_type": "code",
      "execution_count": 11,
      "metadata": {
        "deletable": false,
        "nbgrader": {
          "cell_type": "code",
          "checksum": "cbe761b38b1262f56ec7e75a94c7a54a",
          "grade": false,
          "grade_id": "cell-1051e90fd643f6ab",
          "locked": false,
          "schema_version": 3,
          "solution": true
        },
        "colab": {
          "base_uri": "https://localhost:8080/",
          "height": 309
        },
        "id": "CgKJSVtrZcJ5",
        "outputId": "9a5e1de9-76b4-446a-c0c7-2b4d8864b701"
      },
      "outputs": [
        {
          "output_type": "display_data",
          "data": {
            "text/plain": [
              "<Figure size 720x360 with 4 Axes>"
            ],
            "image/png": "[encoded data removed]"
          },
          "metadata": {
            "needs_background": "light"
          }
        }
      ],
      "source": [
        "# Create a 3x3 filter of your choice (a matrix of numbers) and save it as \"my_filter\".\n",
        "#\n",
        "# Then apply that filter to the example and save the output image as \"filtered_image\".\n",
        "#\n",
        "# Again, be sure to convert the example from unsigned int numbers to floating-point\n",
        "# numbers beforehand.\n",
        "\n",
        "# YOUR CODE HERE\n",
        "my_filter = np.array([\n",
        "    [0,    2, 0   ],\n",
        "    [0.25, 2,  0.25],\n",
        "    [0,    2, 0   ]\n",
        "])\n",
        "#raise NotImplementedError()\n",
        "filtered_image = scipy.ndimage.convolve(example, my_filter)\n",
        "plt.figure(figsize=(10, 5))\n",
        "plt.subplot(1, 2, 1)\n",
        "plt.imshow(example, cmap=\"gray\")\n",
        "plt.colorbar()\n",
        "           \n",
        "plt.subplot(1, 2, 2)\n",
        "plt.imshow(filtered_image, cmap=\"gray\")\n",
        "_ = plt.colorbar()"
      ]
    },
    {
      "cell_type": "code",
      "execution_count": 12,
      "metadata": {
        "deletable": false,
        "editable": false,
        "nbgrader": {
          "cell_type": "code",
          "checksum": "ee626d21f249b0cc04f73acd1bfd0192",
          "grade": true,
          "grade_id": "cell-dab2b2dd97bd278f",
          "locked": true,
          "points": 5,
          "schema_version": 3,
          "solution": false
        },
        "id": "cWNBk1EqZcJ6"
      },
      "outputs": [],
      "source": [
        "assert blurred_image.shape == example.shape\n",
        "assert filtered_image.shape == example.shape\n",
        "assert my_filter.shape == (3,3)"
      ]
    },
    {
      "cell_type": "markdown",
      "metadata": {
        "id": "TiSkmtBRZcJ6"
      },
      "source": [
        "### Feedforward NN versus CNN\n",
        "\n",
        "Let's build two models -- a dense feed-forward NN and a convolutional NN. We'll train each on the MNIST training set, test them on the test set, and compare performance results (accuracy). Because the test data set is balanced (approximately 1000 samples of each of the 10 digits), accuracy is a reasonably good metric so we'll just use that rather than F-score, for simplicity.\n",
        "\n",
        "In an effort have an apples-to-apples comparison, we'll use the same number of layers in both networks, and nearly the same number of total model parameters.\n",
        "\n",
        "__We'll start by creating a the feedforward network--one with two hidden layers plus an output layer.__"
      ]
    },
    {
      "cell_type": "code",
      "execution_count": 13,
      "metadata": {
        "deletable": false,
        "nbgrader": {
          "cell_type": "code",
          "checksum": "488b3397640cdf6f029e5df580de2466",
          "grade": false,
          "grade_id": "cell-dd8d2962acc9833c",
          "locked": false,
          "schema_version": 3,
          "solution": true
        },
        "colab": {
          "base_uri": "https://localhost:8080/"
        },
        "id": "t00DPwnsZcJ6",
        "outputId": "cc965f2e-b3c1-4251-fbc7-64bb97b33957"
      },
      "outputs": [
        {
          "output_type": "stream",
          "name": "stdout",
          "text": [
            "Model: \"sequential\"\n",
            "_________________________________________________________________\n",
            " Layer (type)                Output Shape              Param #   \n",
            "=================================================================\n",
            " flatten (Flatten)           (None, 784)               0         \n",
            "                                                                 \n",
            " layer1 (Dense)              (None, 25)                19625     \n",
            "                                                                 \n",
            " dropout (Dropout)           (None, 25)                0         \n",
            "                                                                 \n",
            " layer2 (Dense)              (None, 25)                650       \n",
            "                                                                 \n",
            " dropout_1 (Dropout)         (None, 25)                0         \n",
            "                                                                 \n",
            " output (Dense)              (None, 10)                260       \n",
            "                                                                 \n",
            "=================================================================\n",
            "Total params: 20,535\n",
            "Trainable params: 20,535\n",
            "Non-trainable params: 0\n",
            "_________________________________________________________________\n"
          ]
        }
      ],
      "source": [
        "# Create a list of Keras layers, calling it \"ff_layers\", and use the\n",
        "# Keras Sequential class to create a feedforward NN model, as you\n",
        "# did in Activity 5a.\n",
        "#\n",
        "# Your model should have two hidden Dense layers and an output Dense layer.\n",
        "#\n",
        "# Use the \"relu\" activation function for the hidden layers. Other point-wise\n",
        "# non-linear activation function might work fairly well, but ReLU is the\n",
        "# most common because of its computational efficiency as well as its\n",
        "# effectiveness.\n",
        "#\n",
        "# Use 25 neurons in each of the hidden layers.\n",
        "#\n",
        "# This is a classification task with 10 output classes so select the output\n",
        "# layer's activation function accordingly. Review the reading material or lecture\n",
        "# slides from the first deep learning lecture, 5a, if you don't recall\n",
        "# what it should be or why.\n",
        "#\n",
        "# Since the input data (image) is a matrix, you'll need to additional layers\n",
        "# at the beginning of your \"ff_layers\" list.\n",
        "# 1. An Input() layer, that tells the model what shape the input samples\n",
        "#    will be, (28, 28, 1).\n",
        "# 2. A Flatten layer, to convert that image/matrix into a vector, which\n",
        "#    is the what the subsequent Dense layer expects.\n",
        "#\n",
        "# Also, add a Dropout layer after each hidden Dense layer, for regularization.\n",
        "#\n",
        "# Finally, save the resulting Sequential model as \"ff_model\"\n",
        "\n",
        "# YOUR CODE HERE\n",
        "\n",
        "inputs = tf.keras.Input((28,28,1))\n",
        "flatten = tf.keras.layers.Flatten()\n",
        "layer1 = tf.keras.layers.Dense(25, activation=\"relu\", name=\"layer1\")\n",
        "drop1 = tf.keras.layers.Dropout(.2)\n",
        "layer2 = tf.keras.layers.Dense(25, activation=\"relu\", name = \"layer2\")\n",
        "drop2 = tf.keras.layers.Dropout(.2)\n",
        "outputLayer = tf.keras.layers.Dense(10 , name=\"output\")\n",
        "\n",
        "ff_layers = [inputs,flatten,layer1, drop1,layer2,drop2,outputLayer]\n",
        "\n",
        "ff_model = tf.keras.Sequential(ff_layers)\n",
        "#raise NotImplementedError()\n",
        "\n",
        "ff_model.summary()"
      ]
    },
    {
      "cell_type": "markdown",
      "metadata": {
        "id": "vBwxtQ-fZcJ7"
      },
      "source": [
        "Look at the output __above__, from `ff_model.summary()`, and take note of the __total number of model parameters__."
      ]
    },
    {
      "cell_type": "code",
      "execution_count": 14,
      "metadata": {
        "deletable": false,
        "editable": false,
        "nbgrader": {
          "cell_type": "code",
          "checksum": "a8bc339ed2ed5a9e26fd2303ea6f357d",
          "grade": true,
          "grade_id": "cell-b9330f9b40580d4b",
          "locked": true,
          "points": 5,
          "schema_version": 3,
          "solution": false
        },
        "id": "niMiorxPZcJ7"
      },
      "outputs": [],
      "source": [
        "assert len(ff_layers) == 7\n",
        "target_type = [Flatten, Dense, Dropout, Dense, Dropout, Dense]\n",
        "for l, tt in zip(ff_model.layers, target_type):\n",
        "    assert isinstance(l, tt)"
      ]
    },
    {
      "cell_type": "markdown",
      "metadata": {
        "id": "MQIfGKyNZcJ7"
      },
      "source": [
        "### Evaluating your test or validation set while training\n",
        "\n",
        "In previous notebooks we passed our training data to `Model.fit`, which trained for a specified number of epochs. Then we plotted the training set loss (and/or metrics) as a function of epochs, allowing us to see the dynamics of the model's convergence toward a solution.\n",
        "\n",
        "In this notebook we'll also pass our test data to `Model.fit`. The Model object is smart. It will use only the training data for fitting, but it will also compute the loss and metric functions for the test data, at the end of each training epoch. Afterwards, we can plot the loss and metrics for both the training data and for the test data."
      ]
    },
    {
      "cell_type": "code",
      "execution_count": 15,
      "metadata": {
        "colab": {
          "base_uri": "https://localhost:8080/",
          "height": 1000
        },
        "id": "uWKdv_nmZcJ7",
        "outputId": "72a18130-ab46-4c84-b35a-7ca9f8f6509d"
      },
      "outputs": [
        {
          "output_type": "stream",
          "name": "stdout",
          "text": [
            "Epoch 1/20\n",
            "1875/1875 [==============================] - 6s 3ms/step - loss: 6.9627 - accuracy: 0.1262 - val_loss: 2.3026 - val_accuracy: 0.1056\n",
            "Epoch 2/20\n",
            "1875/1875 [==============================] - 8s 4ms/step - loss: 2.7611 - accuracy: 0.1260 - val_loss: 2.3026 - val_accuracy: 0.1136\n",
            "Epoch 3/20\n",
            "1875/1875 [==============================] - 11s 6ms/step - loss: 2.5333 - accuracy: 0.1237 - val_loss: 2.3026 - val_accuracy: 0.1135\n",
            "Epoch 4/20\n",
            "1875/1875 [==============================] - 6s 3ms/step - loss: 2.3828 - accuracy: 0.1153 - val_loss: 2.3026 - val_accuracy: 0.1136\n",
            "Epoch 5/20\n",
            "1875/1875 [==============================] - 7s 4ms/step - loss: 2.3643 - accuracy: 0.1135 - val_loss: 2.3026 - val_accuracy: 0.1135\n",
            "Epoch 6/20\n",
            "1875/1875 [==============================] - 7s 4ms/step - loss: 2.3658 - accuracy: 0.1154 - val_loss: 2.3026 - val_accuracy: 0.1135\n",
            "Epoch 7/20\n",
            "1875/1875 [==============================] - 5s 3ms/step - loss: 2.3640 - accuracy: 0.1162 - val_loss: 2.3026 - val_accuracy: 0.1135\n",
            "Epoch 8/20\n",
            "1875/1875 [==============================] - 7s 4ms/step - loss: 2.3636 - accuracy: 0.1161 - val_loss: 2.3026 - val_accuracy: 0.1078\n",
            "Epoch 9/20\n",
            "1875/1875 [==============================] - 5s 3ms/step - loss: 2.3472 - accuracy: 0.1083 - val_loss: 2.3026 - val_accuracy: 0.1098\n",
            "Epoch 10/20\n",
            "1875/1875 [==============================] - 5s 3ms/step - loss: 2.3467 - accuracy: 0.1071 - val_loss: 2.3026 - val_accuracy: 0.1135\n",
            "Epoch 11/20\n",
            "1875/1875 [==============================] - 5s 3ms/step - loss: 2.3213 - accuracy: 0.1124 - val_loss: 2.3026 - val_accuracy: 0.1161\n",
            "Epoch 12/20\n",
            "1875/1875 [==============================] - 5s 3ms/step - loss: 2.3265 - accuracy: 0.1121 - val_loss: 2.3026 - val_accuracy: 0.1369\n",
            "Epoch 13/20\n",
            "1875/1875 [==============================] - 5s 3ms/step - loss: 2.3182 - accuracy: 0.1159 - val_loss: 2.3026 - val_accuracy: 0.1365\n",
            "Epoch 14/20\n",
            "1875/1875 [==============================] - 5s 3ms/step - loss: 2.3188 - accuracy: 0.1156 - val_loss: 2.3026 - val_accuracy: 0.1618\n",
            "Epoch 15/20\n",
            "1875/1875 [==============================] - 5s 3ms/step - loss: 2.3151 - accuracy: 0.1196 - val_loss: 2.3026 - val_accuracy: 0.1618\n",
            "Epoch 16/20\n",
            "1875/1875 [==============================] - 5s 3ms/step - loss: 2.3149 - accuracy: 0.1156 - val_loss: 2.3026 - val_accuracy: 0.1833\n",
            "Epoch 17/20\n",
            "1875/1875 [==============================] - 5s 3ms/step - loss: 2.3162 - accuracy: 0.1165 - val_loss: 2.3026 - val_accuracy: 0.1716\n",
            "Epoch 18/20\n",
            "1875/1875 [==============================] - 5s 3ms/step - loss: 2.3138 - accuracy: 0.1158 - val_loss: 2.3026 - val_accuracy: 0.1198\n",
            "Epoch 19/20\n",
            "1875/1875 [==============================] - 8s 4ms/step - loss: 2.3180 - accuracy: 0.1061 - val_loss: 2.3026 - val_accuracy: 0.1135\n",
            "Epoch 20/20\n",
            "1875/1875 [==============================] - 5s 3ms/step - loss: 2.3191 - accuracy: 0.1050 - val_loss: 2.3026 - val_accuracy: 0.1135\n",
            "\n",
            "Accuracy on the final epoch of training was 10.50%\n"
          ]
        },
        {
          "output_type": "display_data",
          "data": {
            "text/plain": [
              "<Figure size 720x360 with 2 Axes>"
            ],
            "image/png": "[encoded data removed]"
          },
          "metadata": {
            "needs_background": "light"
          }
        }
      ],
      "source": [
        "## Let's train the model and plot the training loss curve\n",
        "#\n",
        "# We'll train for 20 epochs. If you change model parameters/hyperparameters above,\n",
        "# and the model's loss curve hasn't flattened (approximately) after 20 epochs, you\n",
        "# can increase the number of training epochs.\n",
        "\n",
        "ff_model.compile(optimizer=\"adam\", loss='sparse_categorical_crossentropy', metrics=['accuracy'])\n",
        "n_epochs = 20\n",
        "history = ff_model.fit(x_train, y_train, epochs=n_epochs, validation_data=(x_test, y_test))\n",
        "\n",
        "plt.figure(figsize=(10, 5))\n",
        "plt.subplot(1, 2, 1)\n",
        "plt.plot(np.arange(1, n_epochs+1), history.history['loss'], label='Train set')\n",
        "plt.plot(np.arange(1, n_epochs+1), history.history['val_loss'], label='Test set')\n",
        "plt.legend()\n",
        "plt.xlabel('Epoch')\n",
        "plt.ylabel('Loss')\n",
        "plt.grid(True)\n",
        "\n",
        "plt.subplot(1, 2, 2)\n",
        "plt.plot(np.arange(1, n_epochs+1), history.history['accuracy'], label='Train set')\n",
        "plt.plot(np.arange(1, n_epochs+1), history.history['val_accuracy'], label='Test set')\n",
        "plt.legend()\n",
        "plt.xlabel('Epoch')\n",
        "plt.ylabel('Accuracy')\n",
        "plt.grid(True)\n",
        "\n",
        "print(f\"\\nAccuracy on the final epoch of training was {100*history.history['accuracy'][-1]:0.2f}%\")"
      ]
    },
    {
      "cell_type": "code",
      "execution_count": 16,
      "metadata": {
        "nbgrader": {
          "grade": false,
          "grade_id": "cell-045361b2e3f23134",
          "locked": false,
          "schema_version": 3,
          "solution": false
        },
        "id": "gaDscYIvZcJ8",
        "colab": {
          "base_uri": "https://localhost:8080/"
        },
        "outputId": "f2a822a3-050a-48a5-86ff-9ed8ee3d1774"
      },
      "outputs": [
        {
          "output_type": "stream",
          "name": "stdout",
          "text": [
            "313/313 [==============================] - 1s 2ms/step - loss: 2.3026 - accuracy: 0.1135\n",
            "\n",
            "The fully-connected feedforward model achieves an accuracy of 11.35% on the test data.\n"
          ]
        }
      ],
      "source": [
        "# Let's assess our FF model's performance on the test set\n",
        "ff_scores = ff_model.evaluate(x_test, y_test)\n",
        "\n",
        "print(f\"\\nThe fully-connected feedforward model achieves an accuracy of {ff_scores[1]*100:.2f}% on the test data.\")"
      ]
    },
    {
      "cell_type": "markdown",
      "metadata": {
        "id": "STJH32otZcJ8"
      },
      "source": [
        "### Result from the feedforward NN\n",
        "\n",
        "__You may find that the accuracy on the test set is higher than reported for the training set! But it's really not. Let us explain...__\n",
        "\n",
        "We used dropout during training, which helps with model regularization (and generalization) but reduces performance when in use (i.e., during training). __When we use the `evaluate()` method, the dropout layers are \"turned off.\"__ Similarly, `fit` does not apply dropout to the test/validation set, only to the training set. If we were to put our training set through the trained model, without dropout (that is, by using `evaluate`) we would get accuracy scores like those of the test data, and likely a little bit higher.\n",
        "\n",
        "What's a good accuracy for our model? Is 50% good? \n",
        "\n",
        "Something to consider is that we have 10 classes - does that change your answer? What would random guessing's accuracy be? \n",
        "\n",
        "Based on your answer to the above questions, is your simple model good? \n",
        "\n",
        "__Let's see if we can do better. In the next section, we'll build a convolutional neural network. You'll need to use [Conv2D](https://www.tensorflow.org/api_docs/python/tf/keras/layers/Conv2D) and [MaxPool2D](https://www.tensorflow.org/api_docs/python/tf/keras/layers/MaxPool2D) layers from Keras.__"
      ]
    },
    {
      "cell_type": "code",
      "execution_count": 34,
      "metadata": {
        "deletable": false,
        "nbgrader": {
          "cell_type": "code",
          "checksum": "ee25e18eda6ad104129ee745ae1a1401",
          "grade": false,
          "grade_id": "cell-960d34277a5b576e",
          "locked": false,
          "schema_version": 3,
          "solution": true
        },
        "id": "Y6-_S8trZcJ9",
        "colab": {
          "base_uri": "https://localhost:8080/"
        },
        "outputId": "4689e973-3735-428a-f5ed-06ead487dc39"
      },
      "outputs": [
        {
          "output_type": "stream",
          "name": "stdout",
          "text": [
            "Model: \"sequential_7\"\n",
            "_________________________________________________________________\n",
            " Layer (type)                Output Shape              Param #   \n",
            "=================================================================\n",
            " conv2d_12 (Conv2D)          (None, 28, 28, 16)        160       \n",
            "                                                                 \n",
            " max_pooling2d_12 (MaxPoolin  (None, 14, 14, 16)       0         \n",
            " g2D)                                                            \n",
            "                                                                 \n",
            " conv2d_13 (Conv2D)          (None, 14, 14, 32)        4640      \n",
            "                                                                 \n",
            " max_pooling2d_13 (MaxPoolin  (None, 7, 7, 32)         0         \n",
            " g2D)                                                            \n",
            "                                                                 \n",
            " flatten_7 (Flatten)         (None, 1568)              0         \n",
            "                                                                 \n",
            " output (Dense)              (None, 10)                15690     \n",
            "                                                                 \n",
            "=================================================================\n",
            "Total params: 20,490\n",
            "Trainable params: 20,490\n",
            "Non-trainable params: 0\n",
            "_________________________________________________________________\n"
          ]
        }
      ],
      "source": [
        "# Now you'll build a CNN that has the same number of layers as the\n",
        "# feedforward NN, and a comparable number of model parameters.\n",
        "#\n",
        "# The CNN's convolutional and pooling layers will steadily reduce the\n",
        "# number of neurons/outputs in the vertical and horizontal dimensions\n",
        "# while increasing the number of channels (the \"depth\" dimension).\n",
        "#\n",
        "# Your CNN model should be defined by a list of layers, called \"cnn_layers\",\n",
        "# organized as such:\n",
        "# [Input(),\n",
        "#  Conv2D(),\n",
        "#  MaxPool2D(),\n",
        "#  Conv2D(),\n",
        "#  MaxPool2D(),\n",
        "#  Flatten(),\n",
        "#  Dense()]\n",
        "#\n",
        "# Create that list such that the first and second Conv2D layers have 16 and\n",
        "# 32 channels, respectively. Use a (3, 3)-shaped convolutional kernel\n",
        "# for both Conv2D layers, along with \"same\" padding and \"relu\" activation.\n",
        "#\n",
        "# You can use the defaults for the MaxPool2D layers (pooling over a 2x2\n",
        "# area, which thus halves the width and height dimensions).\n",
        "#\n",
        "# You'll then flatten the output of the second/last pooling layer, and\n",
        "# send that to a Dense output layer of 10 neurons. Be sure to use the\n",
        "# appropriate activation function for the output layer, as you did for\n",
        "# the feedforward NN.\n",
        "#\n",
        "# Dropout doesn't provide much regularization support in CNN models, as\n",
        "# the constraints imposed by architecture itself provides that. So we\n",
        "# won't use Dropout layers in the CNN.\n",
        "\n",
        "# Create your CNN model using Sequential, and save it as \"cnn_model\".\n",
        "\n",
        "# YOUR CODE HERE\n",
        "cnn_layers = []\n",
        "inputs = tf.keras.Input((28,28,1))\n",
        "convLayer1 = tf.keras.layers.Conv2D(16,kernel_size = (3,3), padding = 'same', activation=\"relu\")\n",
        "mPoolLayer1 = tf.keras.layers.MaxPool2D()\n",
        "convLayer2 = tf.keras.layers.Conv2D(32,kernel_size = (3,3), padding = 'same', activation=\"relu\")\n",
        "mPoolLayer2 = tf.keras.layers.MaxPool2D()\n",
        "flatten = tf.keras.layers.Flatten()\n",
        "\n",
        "outputLayer = tf.keras.layers.Dense(10 , activation = \"softmax\", name=\"output\")\n",
        "\n",
        "cnn_layers = [inputs,convLayer1,mPoolLayer1,convLayer2,mPoolLayer2, flatten, outputLayer]\n",
        "\n",
        "cnn_model = tf.keras.Sequential()\n",
        "for layer in cnn_layers:\n",
        "  cnn_model.add(layer)\n",
        "\n",
        "#raise NotImplementedError()\n",
        "\n",
        "cnn_model.summary()"
      ]
    },
    {
      "cell_type": "markdown",
      "metadata": {
        "id": "xBkgv_YrZcJ9"
      },
      "source": [
        "Look at the output __above__, from `cnn_model.summary()`, and take note of the __total number of model parameters__."
      ]
    },
    {
      "cell_type": "code",
      "execution_count": 35,
      "metadata": {
        "deletable": false,
        "editable": false,
        "nbgrader": {
          "cell_type": "code",
          "checksum": "34fac23b1e3643b50ef90e676bb87d9c",
          "grade": true,
          "grade_id": "cell-44d2df9e1f2284ec",
          "locked": true,
          "points": 5,
          "schema_version": 3,
          "solution": false
        },
        "id": "215loGy4ZcJ9"
      },
      "outputs": [],
      "source": [
        "assert len(cnn_layers) == 7\n",
        "target_type = [Conv2D, MaxPool2D, Conv2D, MaxPool2D, Flatten, Dense]\n",
        "for l, tt in zip(cnn_model.layers, target_type):\n",
        "    assert isinstance(l, tt)"
      ]
    },
    {
      "cell_type": "code",
      "execution_count": 36,
      "metadata": {
        "id": "grYG_ZcKZcJ9",
        "colab": {
          "base_uri": "https://localhost:8080/",
          "height": 476
        },
        "outputId": "2c83c09c-1f57-4dd7-f11c-1ffe836ea68c"
      },
      "outputs": [
        {
          "output_type": "stream",
          "name": "stdout",
          "text": [
            "Epoch 1/3\n",
            "1875/1875 [==============================] - 49s 26ms/step - loss: 0.3707 - accuracy: 0.9423 - val_loss: 0.0656 - val_accuracy: 0.9788\n",
            "Epoch 2/3\n",
            "1875/1875 [==============================] - 48s 26ms/step - loss: 0.0721 - accuracy: 0.9785 - val_loss: 0.0609 - val_accuracy: 0.9823\n",
            "Epoch 3/3\n",
            "1875/1875 [==============================] - 47s 25ms/step - loss: 0.0560 - accuracy: 0.9832 - val_loss: 0.0781 - val_accuracy: 0.9790\n",
            "\n",
            "Accuracy on the final epoch of training was 98.32%\n"
          ]
        },
        {
          "output_type": "display_data",
          "data": {
            "text/plain": [
              "<Figure size 720x360 with 2 Axes>"
            ],
            "image/png": "[encoded data removed]"
          },
          "metadata": {
            "needs_background": "light"
          }
        }
      ],
      "source": [
        "# Now we'll train the CNN model.\n",
        "#\n",
        "# Because the 2D architecture of the CNN constrains the model to learn patterns\n",
        "# that exist in 2D space (e.g., nearby pixels are more likely to exhibit some\n",
        "# connectedness/pattern than distant pixles) the model learns much more quickly\n",
        "# (that is, with fewer training epochs). So we'll only train for 3 epochs this time.\n",
        "# You can increase the number of epochs if you'd like.\n",
        "#\n",
        "# Also, the model expects the input samples to have a \"channel\" dimension, e.g.,\n",
        "# three channels (red/green/blue) for color images, 1 channel for grayscale images.\n",
        "# So we'll reshape our training images from (n_samples, 28, 28) to\n",
        "# (n_samples, 28, 28, 1).\n",
        "#\n",
        "# Note that we used 'sparse_categorical_crossentropy' as the loss function,\n",
        "# which is typical for classification tasks with a softmax output activation function.\n",
        "\n",
        "cnn_model.compile(optimizer=\"adam\", loss='sparse_categorical_crossentropy', metrics=['accuracy'])\n",
        "n_epochs = 3\n",
        "history = cnn_model.fit(x_train.reshape(-1, 28, 28 ,1), y_train, epochs=n_epochs,\n",
        "                        validation_data=(x_test.reshape(-1, 28, 28 ,1), y_test))\n",
        "\n",
        "plt.figure(figsize=(10, 5))\n",
        "plt.subplot(1, 2, 1)\n",
        "plt.plot(np.arange(1, n_epochs+1), history.history['loss'], label='Train set')\n",
        "plt.plot(np.arange(1, n_epochs+1), history.history['val_loss'], label='Test set')\n",
        "plt.legend()\n",
        "plt.xlabel('Epoch')\n",
        "plt.ylabel('Loss')\n",
        "plt.grid(True)\n",
        "\n",
        "plt.subplot(1, 2, 2)\n",
        "plt.plot(np.arange(1, n_epochs+1), history.history['accuracy'], label='Train set')\n",
        "plt.plot(np.arange(1, n_epochs+1), history.history['val_accuracy'], label='Test set')\n",
        "plt.legend()\n",
        "plt.xlabel('Epoch')\n",
        "plt.ylabel('Accuracy')\n",
        "plt.grid(True)\n",
        "print(f\"\\nAccuracy on the final epoch of training was {100*history.history['accuracy'][-1]:0.2f}%\")"
      ]
    },
    {
      "cell_type": "code",
      "execution_count": 37,
      "metadata": {
        "nbgrader": {
          "grade": false,
          "grade_id": "cell-a6157eb6365d54be",
          "locked": false,
          "schema_version": 3,
          "solution": false
        },
        "id": "3JEqG8GZZcJ-",
        "colab": {
          "base_uri": "https://localhost:8080/"
        },
        "outputId": "aac16cd1-7f7b-4f1e-aa33-64120f104c68"
      },
      "outputs": [
        {
          "output_type": "stream",
          "name": "stdout",
          "text": [
            "313/313 [==============================] - 3s 9ms/step - loss: 0.0781 - accuracy: 0.9790\n",
            "\n",
            "The CNN model achieves an accuracy of 97.90% on the test data.\n"
          ]
        }
      ],
      "source": [
        "# Let's assess our CNN model's performance on the test set\n",
        "cnn_scores = cnn_model.evaluate(x_test.reshape(-1, 28, 28 ,1), y_test)\n",
        "\n",
        "print(f\"\\nThe CNN model achieves an accuracy of {cnn_scores[1]*100:.2f}% on the test data.\")"
      ]
    },
    {
      "cell_type": "markdown",
      "metadata": {
        "id": "XbpNLUGmZcJ-"
      },
      "source": [
        "### Results from the CNN model\n",
        "\n",
        "If all went as planned, you saw notably higher accuracy from the CNN than from the feedforward network, __despite both networks having the same number of layers and nearly the same number of model parameters. It also converged much faster!__\n",
        "\n",
        "We didn't use dropout this time, so the \"artificial\" situation in which test set accuracy appears to be notably higher than training set accuracy should go away. However, even without dropout, the test set accuracy is often reported as being higher in *early* epochs, but this is for a different reason. The accuracy reported for a training set of a given epoch is the average of all batch accuracies *while the model was learning*, such that early batches did worse than later batches, within that epoch. The test set is not scored until after the training epoch is complete, so the model is \"better\" at that moment in time, and thus the test set accuracy score is higher.\n",
        "\n",
        "__Feel free to modify the FF and/or CNN networks__ -- increasing or decreasing number of neurons, numbers of layers, and types of activation functions. __Just be sure that your asserts/test cells pass after a fresh run of your notebook, before turning it in.__"
      ]
    },
    {
      "cell_type": "code",
      "execution_count": 38,
      "metadata": {
        "deletable": false,
        "editable": false,
        "nbgrader": {
          "cell_type": "code",
          "checksum": "89d58854a6fbaf631d5783b3d8c8df27",
          "grade": true,
          "grade_id": "cell-279d9d45069805b8",
          "locked": true,
          "points": 0,
          "schema_version": 3,
          "solution": false,
          "task": false
        },
        "id": "OoFa31K9ZcJ-"
      },
      "outputs": [],
      "source": [
        "assert cnn_scores[1] > 0.9"
      ]
    },
    {
      "cell_type": "markdown",
      "metadata": {
        "id": "bVP_6mywZcJ-"
      },
      "source": [
        "### Play in the sandbox\n",
        "\n",
        "Below you may want to explore the outputs of the two models for a variety of individual samples (images). With each run, the output predictions for all 10 classes are plotted, so you can __compare the \"sharpness\" of the predicted class probability distribution__ (using the term \"probability distribution\" loosely) of the CNN versus the FF model. "
      ]
    },
    {
      "cell_type": "code",
      "execution_count": 32,
      "metadata": {
        "id": "b8WSSthmZcJ_",
        "colab": {
          "base_uri": "https://localhost:8080/",
          "height": 405
        },
        "outputId": "4eb53764-da10-49ee-b350-fa8fd9fc18d4"
      },
      "outputs": [
        {
          "output_type": "stream",
          "name": "stdout",
          "text": [
            "1/1 [==============================] - 0s 96ms/step\n",
            "1/1 [==============================] - 0s 61ms/step\n",
            "Feedforward model predicts class 1.\n",
            "        CNN model predicts class 0.\n"
          ]
        },
        {
          "output_type": "display_data",
          "data": {
            "text/plain": [
              "<Figure size 720x360 with 2 Axes>"
            ],
            "image/png": "[encoded data removed]"
          },
          "metadata": {
            "needs_background": "light"
          }
        }
      ],
      "source": [
        "# Change this value to test out some samples, and see what\n",
        "# them models' predictions look like.\n",
        "\n",
        "i = 373   # Pick any number from 0 to 9999\n",
        "\n",
        "new_example = x_test[i]\n",
        "ff_class_probabilities = ff_model.predict(new_example.reshape(-1, 28, 28))\n",
        "ff_class_prediction = np.argmax(ff_class_probabilities)\n",
        "\n",
        "cnn_class_probabilities = cnn_model.predict(new_example.reshape(-1, 28, 28, 1))\n",
        "cnn_class_prediction = np.argmax(cnn_class_probabilities)\n",
        "\n",
        "plt.figure(figsize=(10, 5))\n",
        "plt.subplot(1, 2, 1)\n",
        "plt.imshow(new_example, cmap=\"gray\")\n",
        "\n",
        "plt.subplot(1, 2, 2)\n",
        "plt.plot(ff_class_probabilities[0], '-bs', label='FF')\n",
        "plt.plot(ff_class_prediction, np.max(ff_class_probabilities[0]), 'bs', markersize=15)\n",
        "plt.plot(cnn_class_probabilities[0], '-ro', label='CNN')\n",
        "plt.plot(cnn_class_prediction, np.max(cnn_class_probabilities[0]), 'ro', markersize=15)\n",
        "plt.xlabel('Class')\n",
        "plt.ylabel('Probability')\n",
        "plt.legend(loc='center right')\n",
        "plt.grid(True)\n",
        "\n",
        "print(f\"Feedforward model predicts class {ff_class_prediction}.\")\n",
        "print(f\"        CNN model predicts class {cnn_class_prediction}.\")"
      ]
    },
    {
      "cell_type": "markdown",
      "metadata": {
        "deletable": false,
        "editable": false,
        "nbgrader": {
          "cell_type": "markdown",
          "checksum": "48f97c6b49b742a0a7ebbd9fc0415266",
          "grade": false,
          "grade_id": "cell-ad05bf85bb55dc8e",
          "locked": true,
          "schema_version": 3,
          "solution": false
        },
        "id": "OXOfTowXZcJ_"
      },
      "source": [
        "## Feedback"
      ]
    },
    {
      "cell_type": "code",
      "execution_count": 39,
      "metadata": {
        "deletable": false,
        "nbgrader": {
          "cell_type": "code",
          "checksum": "ed936ab53a1391c5e6af8df699a1dbf5",
          "grade": false,
          "grade_id": "feedback",
          "locked": false,
          "schema_version": 3,
          "solution": true
        },
        "id": "8e28zBIBZcJ_"
      },
      "outputs": [],
      "source": [
        "def feedback():\n",
        "    \"\"\"Provide feedback on the contents of this exercise\n",
        "    \n",
        "    Returns:\n",
        "        string\n",
        "    \"\"\"\n",
        "    return \"fun\"\n",
        "    # YOUR CODE HERE\n",
        "    #raise NotImplementedError()"
      ]
    },
    {
      "cell_type": "code",
      "execution_count": null,
      "metadata": {
        "deletable": false,
        "editable": false,
        "nbgrader": {
          "cell_type": "code",
          "checksum": "f39f6185a54850c2f1f9b5b2a17b7543",
          "grade": true,
          "grade_id": "feedback-tests",
          "locked": true,
          "points": 0,
          "schema_version": 3,
          "solution": false
        },
        "id": "ItnhtqdLZcKA"
      },
      "outputs": [],
      "source": []
    }
  ],
  "metadata": {
    "kernelspec": {
      "display_name": "Python 3",
      "language": "python",
      "name": "python3"
    },
    "language_info": {
      "codemirror_mode": {
        "name": "ipython",
        "version": 3
      },
      "file_extension": ".py",
      "mimetype": "text/x-python",
      "name": "python",
      "nbconvert_exporter": "python",
      "pygments_lexer": "ipython3",
      "version": "3.7.4"
    },
    "colab": {
      "provenance": [],
      "collapsed_sections": [],
      "include_colab_link": true
    }
  },
  "nbformat": 4,
  "nbformat_minor": 0
}