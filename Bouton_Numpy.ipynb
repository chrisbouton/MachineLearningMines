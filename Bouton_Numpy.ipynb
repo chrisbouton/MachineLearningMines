{
  "cells": [
    {
      "cell_type": "markdown",
      "metadata": {
        "id": "view-in-github",
        "colab_type": "text"
      },
      "source": [
        "<a href=\"https://colab.research.google.com/github/chrisbouton/MachineLearningMines/blob/main/Bouton_Numpy.ipynb\" target=\"_parent\"><img src=\"https://colab.research.google.com/assets/colab-badge.svg\" alt=\"Open In Colab\"/></a>"
      ]
    },
    {
      "cell_type": "markdown",
      "metadata": {
        "id": "Wxgc9AKsjIip"
      },
      "source": [
        "## CSCI 470 Activities and Case Studies\n",
        "\n",
        "1. For all activities, you are allowed to collaborate with a partner. \n",
        "1. For case studies, you should work individually and are **not** allowed to collaborate.\n",
        "\n",
        "By filling out this notebook and submitting it, you acknowledge that you are aware of the above policies and are agreeing to comply with them."
      ]
    },
    {
      "cell_type": "markdown",
      "metadata": {
        "id": "3KjXfgV_jIis"
      },
      "source": [
        "Some considerations with regard to how these notebooks will be graded:\n",
        "\n",
        "1. Cells in which \"# YOUR CODE HERE\" is found are the cells where your graded code should be written.\n",
        "2. In order to test out or debug your code you may also create notebook cells or edit existing notebook cells other than \"# YOUR CODE HERE\". We actually highly recommend you do so to gain a better understanding of what is happening. However, during grading, **these changes are ignored**. \n",
        "2. You must ensure that all your code for the particular task is available in the cells that say \"# YOUR CODE HERE\"\n",
        "3. Every cell that says \"# YOUR CODE HERE\" is followed by a \"raise NotImplementedError\". You need to remove that line. During grading, if an error occurs then you will not receive points for your work in that section.\n",
        "4. If your code passes the \"assert\" statements, then no output will result. If your code fails the \"assert\" statements, you will get an \"AssertionError\". Getting an assertion error means you will not receive points for that particular task.\n",
        "5. If you edit the \"assert\" statements to make your code pass, they will still fail when they are graded since the \"assert\" statements will revert to the original. Make sure you don't edit the assert statements.\n",
        "6. We may sometimes have \"hidden\" tests for grading. This means that passing the visible \"assert\" statements is not sufficient. The \"assert\" statements are there as a guide but you need to make sure you understand what you're required to do and ensure that you are doing it correctly. Passing the visible tests is necessary but not sufficient to get the grade for that cell.\n",
        "7. When you are asked to define a function, make sure you **don't** use any variables outside of the parameters passed to the function. You can think of the parameters being passed to the function as a hint. Make sure you're using all of those variables.\n",
        "8. Finally, **make sure you run \"Kernel > Restart and Run All\"** and pass all the asserts before submitting. If you don't restart the kernel, there may be some code that you ran and deleted that is still being used and that was why your asserts were passing."
      ]
    },
    {
      "cell_type": "markdown",
      "metadata": {
        "id": "L2JUT4f9jIit"
      },
      "source": [
        "# Numpy\n",
        "\n",
        "The Python module, [Numpy](https://numpy.org/doc/stable/), provides a means to efficiently work with vectors, matrices, or high-dimensional tensors (all generically termed \"arrays\"). Compared to raw Python, Numpy oftentimes allows for fewer lines of code and faster execution.\n",
        "\n",
        "In this activity you'll be asked to perform a variety of tasks using Numpy. __We'll only use matrices of integers rather than floating-point numbers, so the math will be easy for you to do in your head (more or less), and check against results.__\n",
        "\n",
        "### There are _hidden test cells in this notebook_. You need to pass the asserts, but be sure do to a self-examination of the numeric results of your code, as this what will be scored by the hidden test cells.\n",
        "\n",
        "For each visible test cell (except Problem 6) there is an accompanying hidden test cell. Each test cell of the visible/hidden pair is worth 2 points (4 points total)."
      ]
    },
    {
      "cell_type": "code",
      "execution_count": 1,
      "metadata": {
        "nbgrader": {
          "grade": false,
          "grade_id": "cell-7ff8992190e52386",
          "locked": false,
          "schema_version": 3,
          "solution": false
        },
        "id": "iZ2xxgKQjIiv"
      },
      "outputs": [],
      "source": [
        "import numpy as np\n",
        "import time"
      ]
    },
    {
      "cell_type": "code",
      "execution_count": 2,
      "metadata": {
        "deletable": false,
        "nbgrader": {
          "cell_type": "code",
          "checksum": "1c658aefe396f91e2e91f9a38abfbf77",
          "grade": false,
          "grade_id": "cell-b1ff46ad54b572cb",
          "locked": false,
          "schema_version": 3,
          "solution": true,
          "task": false
        },
        "colab": {
          "base_uri": "https://localhost:8080/"
        },
        "id": "NrdKzw_djIiw",
        "outputId": "4f546839-969f-4efa-bc28-31f8690c2e6e"
      },
      "outputs": [
        {
          "output_type": "stream",
          "name": "stdout",
          "text": [
            "X:\n",
            "[[ 3  6 -9]\n",
            " [-6 -6 -2]\n",
            " [ 0  9 -5]\n",
            " [-3  3 -8]\n",
            " [-3 -2  5]]\n",
            "(3, 2)\n",
            "[[1. 0.]\n",
            " [0. 1.]\n",
            " [0. 0.]]\n",
            "(3, 2)\n"
          ]
        }
      ],
      "source": [
        "# Problem 1: Slicing\n",
        "#\n",
        "# Given the matrix, X, use slicing to extract a (3, 2) submatrix that\n",
        "# is taken from the first 3 rows of X and the last 2 columns of X.\n",
        "# Name the results \"submatrix\".\n",
        "\n",
        "np.random.seed(0)\n",
        "X = np.random.randint(-9, 10, size=(5, 3))\n",
        "print('X:')\n",
        "print(X)\n",
        "#print(X[[0,1,2]])\n",
        "submatrix = np.eye(3,2)\n",
        "print(submatrix.shape)\n",
        "submarix = X[[0,1,2]], [[-1,-2]]\n",
        "# YOUR CODE HERE\n",
        "#raise NotImplementedError()\n",
        "print(submatrix)\n",
        "print(submatrix.shape)"
      ]
    },
    {
      "cell_type": "code",
      "execution_count": 3,
      "metadata": {
        "deletable": false,
        "editable": false,
        "nbgrader": {
          "cell_type": "code",
          "checksum": "338c4c4c6fa63de9e681223275d32294",
          "grade": true,
          "grade_id": "cell-42cdb22805f63113",
          "locked": true,
          "points": 2,
          "schema_version": 3,
          "solution": false,
          "task": false
        },
        "id": "H4awG-AUjIix"
      },
      "outputs": [],
      "source": [
        "\n",
        "\n",
        "assert submatrix.shape==(3, 2)"
      ]
    },
    {
      "cell_type": "code",
      "execution_count": 3,
      "metadata": {
        "deletable": false,
        "editable": false,
        "nbgrader": {
          "cell_type": "code",
          "checksum": "d57b613f8706af87c107e8b88d6e5bd8",
          "grade": true,
          "grade_id": "cell-deb50b78bf000a15",
          "locked": true,
          "points": 2,
          "schema_version": 3,
          "solution": false,
          "task": false
        },
        "id": "HU4ErivZjIiy"
      },
      "outputs": [],
      "source": []
    },
    {
      "cell_type": "code",
      "execution_count": 4,
      "metadata": {
        "deletable": false,
        "nbgrader": {
          "cell_type": "code",
          "checksum": "4029f699fcafeffb06cf343762c2d17e",
          "grade": false,
          "grade_id": "cell-dc16b6c5a2324c48",
          "locked": false,
          "schema_version": 3,
          "solution": true,
          "task": false
        },
        "colab": {
          "base_uri": "https://localhost:8080/"
        },
        "id": "E44IdqW6jIiy",
        "outputId": "429c3e6a-60ac-4422-cd03-cc5a1d13895f"
      },
      "outputs": [
        {
          "output_type": "stream",
          "name": "stdout",
          "text": [
            "X:\n",
            "[[ 3  6 -9]\n",
            " [-6 -6 -2]\n",
            " [ 0  9 -5]]\n",
            "\n",
            "Y:\n",
            "[[-3  3 -8]\n",
            " [-3 -2  5]\n",
            " [ 8 -4  4]]\n"
          ]
        }
      ],
      "source": [
        "# Problem 2: Multiplying\n",
        "#\n",
        "# Given two square matrices, X and Y:\n",
        "#\n",
        "# 1. Do an element-by-element multiply, and name the result \"mult_elements\".\n",
        "# 2. Do a matrix multiply (XY, not YX), and name the result \"mult_matrix\".\n",
        "\n",
        "np.random.seed(0)\n",
        "X = np.random.randint(-9, 10, size=(3, 3))\n",
        "Y = np.random.randint(-9, 10, size=(3, 3))\n",
        "print('X:')\n",
        "print(X)\n",
        "print('\\nY:')\n",
        "print(Y)\n",
        "mult_elements = np.multiply(X,Y)\n",
        "mult_matrix  = np.matmul(X,Y)\n",
        "\n",
        "# YOUR CODE HERE\n",
        "#raise NotImplementedError()"
      ]
    },
    {
      "cell_type": "code",
      "execution_count": 5,
      "metadata": {
        "deletable": false,
        "editable": false,
        "nbgrader": {
          "cell_type": "code",
          "checksum": "67980bbbb4f6611f9ad51361bd7a61cc",
          "grade": true,
          "grade_id": "cell-82400b0aa815ad71",
          "locked": true,
          "points": 2,
          "schema_version": 3,
          "solution": false,
          "task": false
        },
        "id": "1mcTQCVtjIiz"
      },
      "outputs": [],
      "source": [
        "assert mult_elements.shape==(3, 3)\n",
        "assert mult_matrix.shape==(3, 3)"
      ]
    },
    {
      "cell_type": "code",
      "execution_count": 5,
      "metadata": {
        "deletable": false,
        "editable": false,
        "nbgrader": {
          "cell_type": "code",
          "checksum": "54036cbbfca38a667faa5c98f9222dec",
          "grade": true,
          "grade_id": "cell-09a4a1e23d5c1ac8",
          "locked": true,
          "points": 2,
          "schema_version": 3,
          "solution": false,
          "task": false
        },
        "id": "EGuL0tvIjIiz"
      },
      "outputs": [],
      "source": []
    },
    {
      "cell_type": "code",
      "execution_count": 6,
      "metadata": {
        "deletable": false,
        "nbgrader": {
          "cell_type": "code",
          "checksum": "f9f45b03ba9297046a290b0f09a2e2c9",
          "grade": false,
          "grade_id": "cell-d782a72c39bea8c9",
          "locked": false,
          "schema_version": 3,
          "solution": true,
          "task": false
        },
        "colab": {
          "base_uri": "https://localhost:8080/"
        },
        "id": "9-uEgfscjIi0",
        "outputId": "318464d3-e87c-4171-d6c6-e6352a3f5600"
      },
      "outputs": [
        {
          "output_type": "stream",
          "name": "stdout",
          "text": [
            "X:\n",
            "[[ 3  6 -9 -6]\n",
            " [-6 -2  0  9]\n",
            " [-5 -3  3 -8]\n",
            " [-3 -2  5  8]\n",
            " [-4  4 -1  0]\n",
            " [ 7 -4  6  6]]\n"
          ]
        }
      ],
      "source": [
        "# Problem 3: Broadcasting\n",
        "#\n",
        "# You are given an (m, n) matrix, X.\n",
        "# Create a (1, n) array of numbers from 1 to n, naming it \"my_array\".\n",
        "# Then multiply each row of the matrix by the array, using broadcasting.\n",
        "# Name the result \"mult_broadcast\".\n",
        "\n",
        "np.random.seed(0)\n",
        "X = np.random.randint(-9, 10, size=(6, 4))\n",
        "print('X:')\n",
        "print(X)\n",
        "my_array = np.eye(1,X.shape[1])\n",
        "mult_broadcast = my_array * X\n",
        "# YOUR CODE HERE\n",
        "#raise NotImplementedError()"
      ]
    },
    {
      "cell_type": "code",
      "execution_count": 7,
      "metadata": {
        "deletable": false,
        "editable": false,
        "nbgrader": {
          "cell_type": "code",
          "checksum": "f6316f78e9cf2e62a3a7be1f42d087ac",
          "grade": true,
          "grade_id": "cell-68745cbcde8f0ebb",
          "locked": true,
          "points": 2,
          "schema_version": 3,
          "solution": false,
          "task": false
        },
        "id": "4IUVWh1tjIi0"
      },
      "outputs": [],
      "source": [
        "assert my_array.shape==(1, X.shape[1])\n",
        "assert mult_broadcast.shape==X.shape"
      ]
    },
    {
      "cell_type": "code",
      "execution_count": 7,
      "metadata": {
        "deletable": false,
        "editable": false,
        "nbgrader": {
          "cell_type": "code",
          "checksum": "fcc360b750c3a694baa27ed9603d8c64",
          "grade": true,
          "grade_id": "cell-41babecc69952665",
          "locked": true,
          "points": 2,
          "schema_version": 3,
          "solution": false,
          "task": false
        },
        "id": "iux5plIojIi0"
      },
      "outputs": [],
      "source": []
    },
    {
      "cell_type": "code",
      "execution_count": 8,
      "metadata": {
        "deletable": false,
        "nbgrader": {
          "cell_type": "code",
          "checksum": "6347e145ca3ab3f218e9793a98c57d1b",
          "grade": false,
          "grade_id": "cell-51017ced48d70575",
          "locked": false,
          "schema_version": 3,
          "solution": true,
          "task": false
        },
        "colab": {
          "base_uri": "https://localhost:8080/"
        },
        "id": "XRv8WUA0jIi0",
        "outputId": "9a99f21e-efda-46bf-c51d-022bbf66afe6"
      },
      "outputs": [
        {
          "output_type": "stream",
          "name": "stdout",
          "text": [
            "X:\n",
            "(3, 5)\n",
            "\n",
            "Y:\n",
            "[[0 0 2]\n",
            " [2 2 2]\n",
            " [2 2 2]\n",
            " [1 2 1]\n",
            " [2 2 2]]\n",
            "(5,)\n"
          ]
        }
      ],
      "source": [
        "# Problem 4: Transposition, and row- or column-wise operations\n",
        "#\n",
        "# Given a matrix, X, of \"true values\" of size (m, n), and a matrix, Y, of\n",
        "# \"predicted values\" of size (n, m):\n",
        "#\n",
        "# 1. Use np.transpose() to transpose Y from (n, m) to (m, n), and name\n",
        "#    the result \"Y_trans\".\n",
        "# 2. Compute the sum-of-squares-error between X and Y_trans, for each row.\n",
        "#    Keep the column dimension, such that the output shape is (m, 1).\n",
        "#    Name the result \"sse_rows\".\n",
        "# 3. Compute the mean-absolute-error between X and Y_trans, for each column.\n",
        "#    Do not keep the row dimension, such that the output shape is (n,).\n",
        "#    Name the result \"mae_cols\".\n",
        "\n",
        "# Note that here we use numpy.random.choice, primarily to just expose you to its usage.\n",
        "\n",
        "np.random.seed(0)\n",
        "X = np.random.choice(np.arange(0, 3), size=(3, 5), replace=True, p=(0.1, 0.1, 0.8))\n",
        "Y = np.random.choice(np.arange(0, 3), size=(5, 3), replace=True, p=(0.1, 0.1, 0.8))\n",
        "print('X:')\n",
        "print(X.shape)\n",
        "print('\\nY:')\n",
        "print(Y)\n",
        "\n",
        "Y_trans = np.transpose(Y)\n",
        "squares = (X-Y_trans)**2\n",
        "\n",
        "sse_rows = np.sum(squares, axis=1)\n",
        "sse_rows = np.reshape(sse_rows,(3,1))\n",
        "\n",
        "absV = np.abs(Y_trans-X)\n",
        "mae_cols = np.mean(absV,axis=0)\n",
        "# mae_cols = np.reshape(mae_cols, ())\n",
        "print(mae_cols.shape)\n",
        "# YOUR CODE HERE\n",
        "#raise NotImplementedError()"
      ]
    },
    {
      "cell_type": "code",
      "execution_count": 9,
      "metadata": {
        "deletable": false,
        "editable": false,
        "nbgrader": {
          "cell_type": "code",
          "checksum": "3e9a324a4d544d25a675557fc7f78c6b",
          "grade": true,
          "grade_id": "cell-0080b87937041275",
          "locked": true,
          "points": 2,
          "schema_version": 3,
          "solution": false,
          "task": false
        },
        "id": "gGpCxwp4jIi1"
      },
      "outputs": [],
      "source": [
        "assert Y_trans.shape==X.shape\n",
        "assert sse_rows.shape==(X.shape[0], 1)\n",
        "assert mae_cols.shape==(X.shape[1],)"
      ]
    },
    {
      "cell_type": "code",
      "execution_count": 9,
      "metadata": {
        "deletable": false,
        "editable": false,
        "nbgrader": {
          "cell_type": "code",
          "checksum": "43e9dfaee8c6ae90b46c2a4016b7053c",
          "grade": true,
          "grade_id": "cell-241ae707b0f80a1a",
          "locked": true,
          "points": 2,
          "schema_version": 3,
          "solution": false,
          "task": false
        },
        "id": "20T6pZEfjIi1"
      },
      "outputs": [],
      "source": []
    },
    {
      "cell_type": "code",
      "execution_count": 10,
      "metadata": {
        "deletable": false,
        "nbgrader": {
          "cell_type": "code",
          "checksum": "2b84ed239fada7820ea61a6fabd59003",
          "grade": false,
          "grade_id": "cell-8da7412ec6230d44",
          "locked": false,
          "schema_version": 3,
          "solution": true,
          "task": false
        },
        "colab": {
          "base_uri": "https://localhost:8080/"
        },
        "id": "2bD6xJajjIi1",
        "outputId": "51808e84-e1d5-4610-a1f4-4735697f92ce"
      },
      "outputs": [
        {
          "output_type": "stream",
          "name": "stdout",
          "text": [
            "X:\n",
            "[[ 3  6 -9 -6 -6]\n",
            " [-2  0  9 -5 -3]\n",
            " [ 3 -8 -3 -2  5]\n",
            " [ 8 -4  4 -1  0]]\n",
            "\n",
            "Y:\n",
            "[[6 9 6 9 7]\n",
            " [8 9 9 6 8]\n",
            " [9 6 7 9 7]\n",
            " [9 9 8 9 6]]\n"
          ]
        }
      ],
      "source": [
        "# Problem 5: Find matrix values that meet some criteria, and replace them.\n",
        "#\n",
        "# For matrix X, find all elemant values, x, for which -5 <= x <=5 and\n",
        "# replace them with values at the commensurate location in matrix Y.\n",
        "# Use np.where(). Name the new matrix, \"replaced\".\n",
        "\n",
        "np.random.seed(0)\n",
        "X = np.random.randint(-9, 10, size=(4, 5))\n",
        "Y = np.random.randint(6, 10, size=(4, 5))\n",
        "print('X:')\n",
        "print(X)\n",
        "print('\\nY:')\n",
        "print(Y)\n",
        "replaced = np.copy(X)\n",
        "replaced[np.where((X<=5) & (X>=-5))] = Y[np.where((X<=5)&(X>=-5))]                   \n",
        "#print(indxs)\n",
        "# YOUR CODE HERE\n",
        "#raise NotImplementedError()"
      ]
    },
    {
      "cell_type": "code",
      "execution_count": 11,
      "metadata": {
        "deletable": false,
        "editable": false,
        "nbgrader": {
          "cell_type": "code",
          "checksum": "170d45430ac50bd927f20fee5540cd83",
          "grade": true,
          "grade_id": "cell-aaeb1c5ecaa68d44",
          "locked": true,
          "points": 2,
          "schema_version": 3,
          "solution": false,
          "task": false
        },
        "id": "dem6l1VzjIi2"
      },
      "outputs": [],
      "source": [
        "assert np.all(np.abs(replaced) >= 5)\n",
        "assert np.any(replaced < -5)\n",
        "assert np.any(replaced > 5)"
      ]
    },
    {
      "cell_type": "code",
      "execution_count": 11,
      "metadata": {
        "deletable": false,
        "editable": false,
        "nbgrader": {
          "cell_type": "code",
          "checksum": "0da58dcc698187f5c288c88baa7c5c6f",
          "grade": true,
          "grade_id": "cell-7d51d6fd2d3e1848",
          "locked": true,
          "points": 2,
          "schema_version": 3,
          "solution": false,
          "task": false
        },
        "id": "lTgqrGPzjIi2"
      },
      "outputs": [],
      "source": []
    },
    {
      "cell_type": "code",
      "execution_count": 12,
      "metadata": {
        "colab": {
          "base_uri": "https://localhost:8080/"
        },
        "id": "JtNbqEDjjIi2",
        "outputId": "2a420745-ad7c-43b3-c4d4-d5fffc90ca96"
      },
      "outputs": [
        {
          "output_type": "stream",
          "name": "stdout",
          "text": [
            "Printing just a few of the samples...\n",
            "\n",
            "labels_true:\n",
            "[2 2 2 2 2 2 2 2 2 1 2 2 2 2 0 0 0 2 2 2 2 2 2 2 0 2 0 2 2 2]\n",
            "\n",
            "labels_pred:\n",
            "[0 2 1 1 2 2 2 2 2 1 2 0 0 2 2 0 2 2 2 2 2 2 2 2 2 2 1 2 0 1]\n"
          ]
        }
      ],
      "source": [
        "# Problem 6: Compute a confusion matrix\n",
        "#\n",
        "# The demo code in the next cell computes a confusion matrix by iterating over every sample in\n",
        "# arrays of true and prediction classes, sample by sample.\n",
        "# \n",
        "# In the cell below that, you'll take a different approach. You'll create nested for loops\n",
        "# that iterates over true classes (outer loop) and predicted classes (inner loop). Inside the\n",
        "# inner loop you find (a) the true samples that match the true class (for that loop) and the\n",
        "# predicted samples that match the predicted class (for that loop). You'll then find the samples\n",
        "# that meet both those criteria, sum/count them, and enter that value in the confusion matrix.\n",
        "\n",
        "np.random.seed(0)\n",
        "n_samples = 100\n",
        "labels_true = np.random.choice(np.arange(0, 3), size=(n_samples,), replace=True, p=(0.2, 0.2, 0.6))\n",
        "# Introduce some possible errors in the predictions\n",
        "labels_pred = labels_true.copy()\n",
        "idx_err = np.random.choice(30, size=n_samples//3)\n",
        "labels_pred[idx_err] = np.random.choice(np.arange(0, 3), size=(n_samples//3,), replace=True, p=(0.2, 0.2, 0.6))\n",
        "\n",
        "print('Printing just a few of the samples...')\n",
        "print('\\nlabels_true:')\n",
        "print(labels_true[:30])\n",
        "print('\\nlabels_pred:')\n",
        "print(labels_pred[:30])"
      ]
    },
    {
      "cell_type": "code",
      "execution_count": 13,
      "metadata": {
        "colab": {
          "base_uri": "https://localhost:8080/"
        },
        "id": "EVnLe8-ZjIi3",
        "outputId": "6bbfca58-4ac9-4a4a-82cd-a2772ccd27e4"
      },
      "outputs": [
        {
          "output_type": "stream",
          "name": "stdout",
          "text": [
            "\n",
            "Confusion Matrix:\n",
            "[[21  1  3]\n",
            " [ 0 16  0]\n",
            " [ 4  3 52]]\n"
          ]
        }
      ],
      "source": [
        "# Compute the confusion matrix by iterating over samples\n",
        "cm = np.zeros((3, 3), dtype=int)\n",
        "for i in range(len(labels_true)):\n",
        "    cm[labels_true[i], labels_pred[i]] += 1\n",
        "\n",
        "print('\\nConfusion Matrix:')\n",
        "print(cm)"
      ]
    },
    {
      "cell_type": "code",
      "execution_count": 14,
      "metadata": {
        "deletable": false,
        "nbgrader": {
          "cell_type": "code",
          "checksum": "a902441fa724bc10ca270c958ce9adf5",
          "grade": false,
          "grade_id": "cell-08a8c66fad048c16",
          "locked": false,
          "schema_version": 3,
          "solution": true,
          "task": false
        },
        "colab": {
          "base_uri": "https://localhost:8080/"
        },
        "id": "gv3uDhI9jIi3",
        "outputId": "77bcca4c-219a-4d78-e439-37ea5bd09693"
      },
      "outputs": [
        {
          "output_type": "stream",
          "name": "stdout",
          "text": [
            "\n",
            "Confusion Matrix:\n",
            "[[21  1  3]\n",
            " [ 0 16  0]\n",
            " [ 4  3 52]]\n"
          ]
        }
      ],
      "source": [
        "# Compute the confusion matrix by nested iteration over classes rather\n",
        "# than over samples (as described above in the Problem 6 introduction).\n",
        "#\n",
        "# Inside the inner loop you could (should):\n",
        "# 1. Create a Boolean array which has True where labels_true equals class_true, False elsewhere\n",
        "# 2. Create a Boolean array which has True where labels_pred equals class_pred, False elsewhere\n",
        "# 3. Do a logical and (np.logical_and) of those arrays, resulting in an array which has True\n",
        "#    where both the above conditions are true.\n",
        "# 4. Count the number of True values using np.sum().\n",
        "# 5. Enter that count into the confusion matrix, \"cm2\".\n",
        "\n",
        "cm2 = np.zeros((3, 3), dtype=int)\n",
        "for class_true in range(3):\n",
        "    for class_pred in range(3):\n",
        "        # YOUR CODE HERE\n",
        "        arr1 = (labels_true==class_true)\n",
        "        arr2 = (labels_pred == class_pred)\n",
        "        logAnd = arr1&arr2\n",
        "        cm2[class_true, class_pred] = np.sum(logAnd)\n",
        "        #raise NotImplementedError()\n",
        "\n",
        "print('\\nConfusion Matrix:')\n",
        "print(cm2)"
      ]
    },
    {
      "cell_type": "code",
      "execution_count": 15,
      "metadata": {
        "deletable": false,
        "editable": false,
        "nbgrader": {
          "cell_type": "code",
          "checksum": "5e7d852380df51e5f33470543bb1a0ba",
          "grade": true,
          "grade_id": "cell-abe4f77242a1ba45",
          "locked": true,
          "points": 4,
          "schema_version": 3,
          "solution": false,
          "task": false
        },
        "id": "C0hG8JRVjIi3"
      },
      "outputs": [],
      "source": [
        "## There is no hidden cell for this problem, unlike all the previous problems.\n",
        "assert np.array_equal(cm, cm2)"
      ]
    },
    {
      "cell_type": "markdown",
      "metadata": {
        "deletable": false,
        "editable": false,
        "nbgrader": {
          "cell_type": "markdown",
          "checksum": "483e65acc4062f57f7320d9b4cb0f945",
          "grade": false,
          "grade_id": "cell-75181722913aa756",
          "locked": true,
          "schema_version": 3,
          "solution": false
        },
        "id": "xzixa5NBjIi3"
      },
      "source": [
        "## Feedback"
      ]
    },
    {
      "cell_type": "code",
      "execution_count": 16,
      "metadata": {
        "deletable": false,
        "nbgrader": {
          "cell_type": "code",
          "checksum": "ed936ab53a1391c5e6af8df699a1dbf5",
          "grade": false,
          "grade_id": "feedback",
          "locked": false,
          "schema_version": 3,
          "solution": true
        },
        "id": "49FXi3wXjIi4"
      },
      "outputs": [],
      "source": [
        "def feedback():\n",
        "    \"\"\"Provide feedback on the contents of this exercise\n",
        "    \n",
        "    Returns:\n",
        "        string\n",
        "    \"\"\"\n",
        "    # YOUR CODE HERE\n",
        "    return \"funS\"\n",
        "    #raise NotImplementedError()"
      ]
    },
    {
      "cell_type": "code",
      "execution_count": 16,
      "metadata": {
        "deletable": false,
        "editable": false,
        "nbgrader": {
          "cell_type": "code",
          "checksum": "f39f6185a54850c2f1f9b5b2a17b7543",
          "grade": true,
          "grade_id": "feedback-tests",
          "locked": true,
          "points": 0,
          "schema_version": 3,
          "solution": false
        },
        "id": "_9_uWuXkjIi4"
      },
      "outputs": [],
      "source": []
    }
  ],
  "metadata": {
    "kernelspec": {
      "display_name": "Python 3",
      "language": "python",
      "name": "python3"
    },
    "language_info": {
      "codemirror_mode": {
        "name": "ipython",
        "version": 3
      },
      "file_extension": ".py",
      "mimetype": "text/x-python",
      "name": "python",
      "nbconvert_exporter": "python",
      "pygments_lexer": "ipython3",
      "version": "3.7.4"
    },
    "colab": {
      "provenance": [],
      "include_colab_link": true
    }
  },
  "nbformat": 4,
  "nbformat_minor": 0
}